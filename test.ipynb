{
 "cells": [
  {
   "cell_type": "code",
   "execution_count": 5,
   "metadata": {},
   "outputs": [
    {
     "name": "stderr",
     "output_type": "stream",
     "text": [
      "EE\n",
      "======================================================================\n",
      "ERROR: test_funciton2 (__main__.Test)\n",
      "----------------------------------------------------------------------\n",
      "TypeError: test_funciton2() takes 0 positional arguments but 1 was given\n",
      "\n",
      "======================================================================\n",
      "ERROR: test_function_1 (__main__.Test)\n",
      "----------------------------------------------------------------------\n",
      "TypeError: test_function_1() takes 0 positional arguments but 1 was given\n",
      "\n",
      "----------------------------------------------------------------------\n",
      "Ran 2 tests in 0.002s\n",
      "\n",
      "FAILED (errors=2)\n"
     ]
    },
    {
     "data": {
      "text/plain": [
       "<unittest.main.TestProgram at 0x7f045848e0b8>"
      ]
     },
     "execution_count": 5,
     "metadata": {},
     "output_type": "execute_result"
    }
   ],
   "source": [
    "import unittest\n",
    "\n",
    "class Test(unittest.TestCase):\n",
    "    def test_function_1(self):\n",
    "        self.assertEqual('foo'.upper(), 'FOO')\n",
    "        self.assertTrue('FOO'.isupper())\n",
    "#         self.assertListEqual(self.s.result, expected)\n",
    "#         self.assertContentEqual(s.result, expected)\n",
    "        \n",
    "    def test_funciton2():\n",
    "        pass\n",
    "    \n",
    "# if __name__ == \"__main__\":\n",
    "unittest.main(argv=['first-arg-is-ignored'], exit=False)"
   ]
  },
  {
   "cell_type": "code",
   "execution_count": null,
   "metadata": {},
   "outputs": [],
   "source": []
  }
 ],
 "metadata": {
  "kernelspec": {
   "display_name": "Python 3",
   "language": "python",
   "name": "python3"
  },
  "language_info": {
   "codemirror_mode": {
    "name": "ipython",
    "version": 3
   },
   "file_extension": ".py",
   "mimetype": "text/x-python",
   "name": "python",
   "nbconvert_exporter": "python",
   "pygments_lexer": "ipython3",
   "version": "3.5.2"
  }
 },
 "nbformat": 4,
 "nbformat_minor": 2
}
