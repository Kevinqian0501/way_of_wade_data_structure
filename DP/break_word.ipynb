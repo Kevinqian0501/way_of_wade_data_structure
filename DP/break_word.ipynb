{
 "cells": [
  {
   "cell_type": "code",
   "execution_count": 16,
   "metadata": {},
   "outputs": [],
   "source": [
    "class Solution:\n",
    "    def break_word(self,s,dic):\n",
    "        \"\"\"\n",
    "        Args:\n",
    "            s : string\n",
    "            dic: dictionary of words\n",
    "        Return:\n",
    "            result: bool\n",
    "        \"\"\"\n",
    "        \n",
    "        #using dp\n",
    "        start_index = 0\n",
    "        record = [False]*len(s)\n",
    "        while start_index < len(s):\n",
    "            for walker in range(start_index,len(s)):\n",
    "                if s[start_index:walker+1] in dic:\n",
    "                    record[walker] = True\n",
    "            start_index += 1\n",
    "            while start_index < len(s) and record[start_index]==False:\n",
    "                start_index += 1\n",
    "        return record[-1]\n",
    "\n",
    "    \n",
    "import unittest\n",
    "class Test(unittest.TestCase):\n",
    "    def test_break_word(self):\n",
    "        sol = Solution()\n",
    "        s = 'carcatdogcarcatdog'\n",
    "        dic = {'car','cat','dog'}\n",
    "        sol.break_word(s, dic)\n",
    "        \n",
    "        \n",
    "t = Test()\n",
    "t.test_break_word()"
   ]
  },
  {
   "cell_type": "code",
   "execution_count": null,
   "metadata": {},
   "outputs": [],
   "source": []
  }
 ],
 "metadata": {
  "kernelspec": {
   "display_name": "Python 3",
   "language": "python",
   "name": "python3"
  },
  "language_info": {
   "codemirror_mode": {
    "name": "ipython",
    "version": 3
   },
   "file_extension": ".py",
   "mimetype": "text/x-python",
   "name": "python",
   "nbconvert_exporter": "python",
   "pygments_lexer": "ipython3",
   "version": "3.5.2"
  }
 },
 "nbformat": 4,
 "nbformat_minor": 2
}
