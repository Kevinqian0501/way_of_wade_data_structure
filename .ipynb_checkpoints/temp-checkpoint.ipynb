{
 "cells": [
  {
   "cell_type": "code",
   "execution_count": 2,
   "metadata": {},
   "outputs": [
    {
     "data": {
      "text/plain": [
       "'0.0001b'"
      ]
     },
     "execution_count": 2,
     "metadata": {},
     "output_type": "execute_result"
    }
   ],
   "source": [
    "'{}{}'.format(0.0001,'b')"
   ]
  },
  {
   "cell_type": "code",
   "execution_count": 3,
   "metadata": {},
   "outputs": [
    {
     "data": {
      "text/plain": [
       "'0.0000b'"
      ]
     },
     "execution_count": 3,
     "metadata": {},
     "output_type": "execute_result"
    }
   ],
   "source": [
    "'%.4f%s'%(0.00001,'b')"
   ]
  },
  {
   "cell_type": "code",
   "execution_count": 21,
   "metadata": {},
   "outputs": [
    {
     "name": "stdout",
     "output_type": "stream",
     "text": [
      "Cores4, total time 12.29365587234497\n",
      "Cores8, total time 7.690518140792847\n"
     ]
    }
   ],
   "source": [
    "import multiprocessing\n",
    "import sys, time \n",
    "\n",
    "def function_1(a, b):\n",
    "    for i in range(0,1000):\n",
    "        for j in range(0,2000):\n",
    "            a += 1.0*i*j/(j+1);\n",
    "    time.sleep(1)\n",
    "    return a\n",
    "\n",
    "def run_function(args):\n",
    "    a, b = args\n",
    "    return function_1(a, b)\n",
    "\n",
    "\n",
    "tasks_args = [(i, i+1) for i in range(0,32)]\n",
    "\n",
    "\n",
    "\n",
    "cores = multiprocessing.cpu_count() \n",
    "cores = 4\n",
    "pool = multiprocessing.Pool(processes=cores)\n",
    "\n",
    "cnt = 0.0\n",
    "start_time = time.time()\n",
    "total_task = len(tasks_args)\n",
    "for v in pool.imap(run_function, tasks_args):\n",
    "    cnt += 1\n",
    "    elapsed_time = time.time() - start_time\n",
    "    estimated_time = int(elapsed_time / cnt * (total_task - cnt))\n",
    "    sys.stdout.write('done %d/%d estimated time %d seconds\\r' % (cnt, total_task, estimated_time))\n",
    "    \n",
    "print('Cores{}, total time {}'.format(cores, time.time() - start_time))\n",
    "pool.close()\n",
    "del pool\n",
    "\n",
    "\n",
    "cores = 8\n",
    "pool = multiprocessing.Pool(processes=cores)\n",
    "\n",
    "cnt = 0.0\n",
    "start_time = time.time()\n",
    "total_task = len(tasks_args)\n",
    "for v in pool.imap(run_function, tasks_args):\n",
    "    cnt += 1\n",
    "    elapsed_time = time.time() - start_time\n",
    "    estimated_time = int(elapsed_time / cnt * (total_task - cnt))\n",
    "    sys.stdout.write('done %d/%d estimated time %d seconds\\r' % (cnt, total_task, estimated_time))\n",
    "    \n",
    "print('Cores{}, total time {}'.format(cores, time.time() - start_time))\n",
    "pool.close()\n",
    "del pool"
   ]
  },
  {
   "cell_type": "code",
   "execution_count": null,
   "metadata": {},
   "outputs": [],
   "source": []
  }
 ],
 "metadata": {
  "kernelspec": {
   "display_name": "Python 3",
   "language": "python",
   "name": "python3"
  },
  "language_info": {
   "codemirror_mode": {
    "name": "ipython",
    "version": 3
   },
   "file_extension": ".py",
   "mimetype": "text/x-python",
   "name": "python",
   "nbconvert_exporter": "python",
   "pygments_lexer": "ipython3",
   "version": "3.5.2"
  }
 },
 "nbformat": 4,
 "nbformat_minor": 2
}
