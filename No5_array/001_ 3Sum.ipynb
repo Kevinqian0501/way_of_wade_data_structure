{
 "cells": [
  {
   "cell_type": "markdown",
   "metadata": {},
   "source": [
    "Given an array S of n integers, are there elements a, b, c in S such that a + b + c = 0? Find all unique triplets in the array which gives the sum of zero.\n",
    "\n",
    "Note: The solution set must not contain duplicate triplets."
   ]
  },
  {
   "cell_type": "markdown",
   "metadata": {},
   "source": [
    "For example, given array S = [-1, 0, 1, 2, -1, -4],\n",
    "\n",
    "A solution set is:\n",
    "[\n",
    "  [-1, 0, 1],\n",
    "  [-1, -1, 2]\n",
    "]"
   ]
  },
  {
   "cell_type": "code",
   "execution_count": null,
   "metadata": {},
   "outputs": [],
   "source": [
    "class Solution():\n",
    "    def __init__(self):\n",
    "        self.dic = {}\n",
    "        self.result = []\n",
    "        \n",
    "    def three_sum(self, S):\n",
    "        # store index\n",
    "        S = sorted(S)\n",
    "        print(S)\n",
    "        self.store_dic(S)\n",
    "        self.find_three_sum(S)\n",
    "        return self.result\n",
    "    \n",
    "    def store_dic(self, S):\n",
    "        # store index\n",
    "        for i, v in enumerate(S):\n",
    "            if v in self.dic.keys():\n",
    "                self.dic[v].append(i)\n",
    "            else:\n",
    "                self.dic[v] = [i]\n",
    "                \n",
    "    def find_three_sum(self, S):\n",
    "        for index1, value1 in enumerate(S):\n",
    "            #skip item with same value\n",
    "            if index1 > 0 and S[index1] == S[index1-1]:\n",
    "                continue\n",
    "                \n",
    "            for index2 in range(index1+1, len(S)):\n",
    "                \n",
    "                #skip item with same value\n",
    "                if index2-index1 > 1 and S[index2] == S[index2-1]:\n",
    "                    continue\n",
    "                \n",
    "                value2 = S[index2]\n",
    "                target = 0 - value1 - value2\n",
    "                \n",
    "                if target in self.dic.keys():\n",
    "                    indexs = self.dic[target]\n",
    "                    if indexs[-1] > index2:\n",
    "                        self.result.append([value1,value2, target])\n",
    "            \n",
    "sol = Solution()\n",
    "sol.three_sum([1,2,3,4,1,-4])"
   ]
  },
  {
   "cell_type": "markdown",
   "metadata": {},
   "source": [
    "### 3Sum Closest"
   ]
  },
  {
   "cell_type": "markdown",
   "metadata": {},
   "source": [
    "Given an array S of n integers, find three integers in S such that the sum is closest to a given number, target. Return the sum of the three integers. You may assume that each input would have exactly one solution.\n",
    "\n",
    "    For example, given array S = {-1 2 1 -4}, and target = 1.\n",
    "\n",
    "    The sum that is closest to the target is 2. (-1 + 2 + 1 = 2)."
   ]
  },
  {
   "cell_type": "code",
   "execution_count": 19,
   "metadata": {},
   "outputs": [
    {
     "data": {
      "text/plain": [
       "9"
      ]
     },
     "execution_count": 19,
     "metadata": {},
     "output_type": "execute_result"
    }
   ],
   "source": [
    "class Solution():\n",
    "    def __init__(self):\n",
    "        self.dic = {}\n",
    "        self.difference = float('Inf')\n",
    "        \n",
    "    def three_sum_close(self, S, target):\n",
    "        \"\"\"\n",
    "        :type nums: List[int]\n",
    "        :type target: int\n",
    "        :rtype: int\n",
    "        \"\"\"\n",
    "        S = sorted(S)\n",
    "        self.find_three_sum(S, target)\n",
    "        return target - self.difference\n",
    "                \n",
    "    def find_three_sum(self, S, target):\n",
    "        for index, value in enumerate(S):\n",
    "            self.find_close_twosum(S, index, target-value)\n",
    "    \n",
    "    def find_close_twosum(self, S, index, target):\n",
    "        head, tail = index+1, len(S) - 1\n",
    "        while(head < tail):\n",
    "            difference = target - S[head] - S[tail]\n",
    "            self.difference = difference if abs(self.difference) > abs(difference) else self.difference\n",
    "            if S[head] + S[tail] < target:\n",
    "                head += 1\n",
    "                while(head+1 < len(S) and S[head] == S[head-1]):\n",
    "                    head += 1\n",
    "            else:\n",
    "                tail -= 1\n",
    "                while(tail-1 > -1 and S[tail] == S[tail+1]):\n",
    "                    tail -= 1\n",
    "                \n",
    "            \n",
    "sol = Solution()\n",
    "sol.three_sum_close([1,2,3,4,1,-4], 20)"
   ]
  },
  {
   "cell_type": "markdown",
   "metadata": {},
   "source": [
    "Given an array S of n integers, are there elements a, b, c, and d in S such that a + b + c + d = target? Find all unique quadruplets in the array which gives the sum of target.\n",
    "\n",
    "Note: The solution set must not contain duplicate quadruplets.\n",
    "\n",
    "    For example, given array S = [1, 0, -1, 0, -2, 2], and target = 0.\n",
    "\n",
    "    A solution set is:\n",
    "    [\n",
    "      [-1,  0, 0, 1],\n",
    "      [-2, -1, 1, 2],\n",
    "      [-2,  0, 0, 2]\n",
    "    ]"
   ]
  },
  {
   "cell_type": "code",
   "execution_count": 40,
   "metadata": {},
   "outputs": [
    {
     "name": "stdout",
     "output_type": "stream",
     "text": [
      "[-3, -2, -1, 0, 0, 1, 2, 3]\n"
     ]
    },
    {
     "data": {
      "text/plain": [
       "[[-3, -2, 2, 3],\n",
       " [-3, -1, 1, 3],\n",
       " [-3, 0, 0, 3],\n",
       " [-3, 0, 1, 2],\n",
       " [-2, -1, 0, 3],\n",
       " [-2, -1, 1, 2],\n",
       " [-2, 0, 0, 2],\n",
       " [-1, 0, 0, 1]]"
      ]
     },
     "execution_count": 40,
     "metadata": {},
     "output_type": "execute_result"
    }
   ],
   "source": [
    "class Solution:\n",
    "    def __init__(self):\n",
    "        self.dic = {}\n",
    "        self.result = []\n",
    "    def fourSum(self, nums, target):\n",
    "        \"\"\"\n",
    "        :type nums: List[int]\n",
    "        :type target: int\n",
    "        :rtype: List[List[int]]\n",
    "        \"\"\"\n",
    "        nums.sort()\n",
    "        print(nums)\n",
    "        self.store_two_sum(nums)\n",
    "        self.find_four_sum(nums, target)\n",
    "        return self.result\n",
    "        \n",
    "    def store_two_sum(self, nums):\n",
    "        for index1, value1 in enumerate(nums):\n",
    "            for index2 in range(index1+1, len(nums)):\n",
    "                value2 = nums[index2]\n",
    "                two_sum = value1 + value2\n",
    "                if two_sum in self.dic.keys():\n",
    "                    self.dic[two_sum][str([value1,value2])] = [index1, index2]\n",
    "                else:\n",
    "                    self.dic[two_sum] = {}\n",
    "                    self.dic[two_sum][str([value1,value2])] = [index1, index2]\n",
    "    \n",
    "    def find_four_sum(self, nums, target):\n",
    "        for index1, value1 in enumerate(nums):\n",
    "            #skip item with same value\n",
    "            if index1 > 0 and nums[index1] == nums[index1-1]:\n",
    "                continue\n",
    "                \n",
    "            for index2 in range(index1+1, len(nums)):\n",
    "                #skip item with same value\n",
    "                if index2-index1 > 1 and nums[index2] == nums[index2-1]:\n",
    "                    continue\n",
    "                    \n",
    "                value2 = nums[index2]\n",
    "                two_sum = target - value1 - value2\n",
    "                if two_sum in self.dic.keys():\n",
    "                    cadidates = self.dic[two_sum].keys()\n",
    "                    for cadidate in cadidates:\n",
    "                        indexs = self.dic[two_sum][cadidate]\n",
    "                        if indexs[0] > index2:\n",
    "                            self.result.append([value1, value2, nums[indexs[0]], nums[indexs[1]]])\n",
    "\n",
    "                    \n",
    "sol = Solution()\n",
    "sol.fourSum([-3,-2,-1,0,0,1,2,3], 0)"
   ]
  },
  {
   "cell_type": "code",
   "execution_count": null,
   "metadata": {},
   "outputs": [],
   "source": []
  },
  {
   "cell_type": "code",
   "execution_count": 38,
   "metadata": {},
   "outputs": [
    {
     "data": {
      "text/plain": [
       "'[1, 2]'"
      ]
     },
     "execution_count": 38,
     "metadata": {},
     "output_type": "execute_result"
    }
   ],
   "source": [
    "str([1,2])"
   ]
  },
  {
   "cell_type": "code",
   "execution_count": null,
   "metadata": {},
   "outputs": [],
   "source": []
  },
  {
   "cell_type": "code",
   "execution_count": null,
   "metadata": {},
   "outputs": [],
   "source": []
  },
  {
   "cell_type": "code",
   "execution_count": null,
   "metadata": {},
   "outputs": [],
   "source": []
  },
  {
   "cell_type": "code",
   "execution_count": null,
   "metadata": {},
   "outputs": [],
   "source": []
  },
  {
   "cell_type": "code",
   "execution_count": null,
   "metadata": {},
   "outputs": [],
   "source": []
  },
  {
   "cell_type": "code",
   "execution_count": null,
   "metadata": {},
   "outputs": [],
   "source": []
  },
  {
   "cell_type": "code",
   "execution_count": null,
   "metadata": {},
   "outputs": [],
   "source": []
  },
  {
   "cell_type": "code",
   "execution_count": null,
   "metadata": {},
   "outputs": [],
   "source": []
  },
  {
   "cell_type": "code",
   "execution_count": null,
   "metadata": {},
   "outputs": [],
   "source": []
  },
  {
   "cell_type": "code",
   "execution_count": null,
   "metadata": {},
   "outputs": [],
   "source": []
  },
  {
   "cell_type": "code",
   "execution_count": null,
   "metadata": {},
   "outputs": [],
   "source": []
  },
  {
   "cell_type": "code",
   "execution_count": null,
   "metadata": {},
   "outputs": [],
   "source": []
  },
  {
   "cell_type": "code",
   "execution_count": null,
   "metadata": {},
   "outputs": [],
   "source": []
  },
  {
   "cell_type": "code",
   "execution_count": null,
   "metadata": {},
   "outputs": [],
   "source": []
  },
  {
   "cell_type": "code",
   "execution_count": null,
   "metadata": {},
   "outputs": [],
   "source": []
  },
  {
   "cell_type": "code",
   "execution_count": null,
   "metadata": {},
   "outputs": [],
   "source": []
  },
  {
   "cell_type": "code",
   "execution_count": null,
   "metadata": {},
   "outputs": [],
   "source": []
  },
  {
   "cell_type": "code",
   "execution_count": null,
   "metadata": {},
   "outputs": [],
   "source": []
  },
  {
   "cell_type": "code",
   "execution_count": null,
   "metadata": {},
   "outputs": [],
   "source": []
  },
  {
   "cell_type": "code",
   "execution_count": null,
   "metadata": {},
   "outputs": [],
   "source": []
  },
  {
   "cell_type": "code",
   "execution_count": null,
   "metadata": {},
   "outputs": [],
   "source": []
  },
  {
   "cell_type": "code",
   "execution_count": null,
   "metadata": {},
   "outputs": [],
   "source": []
  },
  {
   "cell_type": "code",
   "execution_count": null,
   "metadata": {},
   "outputs": [],
   "source": []
  }
 ],
 "metadata": {
  "kernelspec": {
   "display_name": "Python 3",
   "language": "python",
   "name": "python3"
  },
  "language_info": {
   "codemirror_mode": {
    "name": "ipython",
    "version": 3
   },
   "file_extension": ".py",
   "mimetype": "text/x-python",
   "name": "python",
   "nbconvert_exporter": "python",
   "pygments_lexer": "ipython3",
   "version": "3.5.2"
  }
 },
 "nbformat": 4,
 "nbformat_minor": 2
}
