{
 "cells": [
  {
   "cell_type": "markdown",
   "metadata": {},
   "source": [
    "Implement next permutation, which rearranges numbers into the lexicographically next greater permutation of numbers.\n",
    "\n",
    "If such arrangement is not possible, it must rearrange it as the lowest possible order (ie, sorted in ascending order).\n",
    "\n",
    "The replacement must be in-place, do not allocate extra memory.\n",
    "\n",
    "    Here are some examples. Inputs are in the left-hand column and its corresponding outputs are in the right-hand column.\n",
    "    1,2,3 → 1,3,2\n",
    "    3,2,1 → 1,2,3\n",
    "    1,1,5 → 1,5,1\n"
   ]
  },
  {
   "cell_type": "code",
   "execution_count": 24,
   "metadata": {},
   "outputs": [],
   "source": [
    "class Solution:\n",
    "    def nextPermutation(self, nums):\n",
    "        \"\"\"\n",
    "        :type nums: List[int]\n",
    "        :rtype: void Do not return anything, modify nums in-place instead.\n",
    "        \"\"\"\n",
    "        if len(nums) <= 1:\n",
    "            return nums\n",
    "        \n",
    "        # search from end\n",
    "        index = len(nums) - 2\n",
    "        \n",
    "        while(index >= 0 and nums[index] >=  nums[index+1]):\n",
    "            index -= 1\n",
    "        \n",
    "        if index == -1:\n",
    "            return nums[::-1]\n",
    "        else:\n",
    "            #find index_2 with value just larger than index\n",
    "            index2 = index+1\n",
    "            for i in range(index2, len(nums)):\n",
    "                if nums[i] > nums[index]:\n",
    "                    index2 = i\n",
    "                else:\n",
    "                    break\n",
    "            \n",
    "            # swap index and index2\n",
    "            temp = nums[index]\n",
    "            nums[index] = nums[index2]\n",
    "            nums[index2] = temp\n",
    "            \n",
    "            # reverse index+1:\n",
    "            for i, index in enumerate(range(index+1, (len(nums)+index)//2+1,1)):\n",
    "                temp = nums[index]\n",
    "                nums[index] = nums[len(nums)-1-i]\n",
    "                nums[len(nums)-1-i] = temp\n",
    "            \n",
    "        \n",
    "        return nums"
   ]
  },
  {
   "cell_type": "code",
   "execution_count": 29,
   "metadata": {},
   "outputs": [],
   "source": [
    "s = Solution()\n",
    "s.nextPermutation([3,2,1])"
   ]
  },
  {
   "cell_type": "code",
   "execution_count": 28,
   "metadata": {},
   "outputs": [],
   "source": [
    "class Solution:\n",
    "    def nextPermutation(self, nums):\n",
    "        \"\"\"\n",
    "        :type nums: List[int]\n",
    "        :rtype: void Do not return anything, modify nums in-place instead.\n",
    "        \"\"\"\n",
    "        if len(nums) <= 1:\n",
    "            pass\n",
    "        \n",
    "        # search from end\n",
    "        index = len(nums) - 2\n",
    "        \n",
    "        while(index >= 0 and nums[index] >=  nums[index+1]):\n",
    "            index -= 1\n",
    "        \n",
    "        if index == -1:\n",
    "            # reverse 0:\n",
    "            for index in range((len(nums)-1)//2+1,1):\n",
    "                temp = nums[index]\n",
    "                nums[index] = nums[len(nums)-1-index]\n",
    "                nums[len(nums)-1-index] = temp\n",
    "        else:\n",
    "            #find index_2 with value just larger than index\n",
    "            index2 = index+1\n",
    "            for i in range(index2, len(nums)):\n",
    "                if nums[i] > nums[index]:\n",
    "                    index2 = i\n",
    "                else:\n",
    "                    break\n",
    "            \n",
    "            # swap index and index2\n",
    "            temp = nums[index]\n",
    "            nums[index] = nums[index2]\n",
    "            nums[index2] = temp\n",
    "            \n",
    "            # reverse index+1:\n",
    "            for i, index in enumerate(range(index+1, (len(nums)+index)//2+1,1)):\n",
    "                temp = nums[index]\n",
    "                nums[index] = nums[len(nums)-1-i]\n",
    "                nums[len(nums)-1-i] = temp"
   ]
  },
  {
   "cell_type": "code",
   "execution_count": null,
   "metadata": {},
   "outputs": [],
   "source": []
  }
 ],
 "metadata": {
  "kernelspec": {
   "display_name": "Python 3",
   "language": "python",
   "name": "python3"
  },
  "language_info": {
   "codemirror_mode": {
    "name": "ipython",
    "version": 3
   },
   "file_extension": ".py",
   "mimetype": "text/x-python",
   "name": "python",
   "nbconvert_exporter": "python",
   "pygments_lexer": "ipython3",
   "version": "3.5.2"
  }
 },
 "nbformat": 4,
 "nbformat_minor": 2
}
