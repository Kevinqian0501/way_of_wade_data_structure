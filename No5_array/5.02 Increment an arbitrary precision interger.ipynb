{
 "cells": [
  {
   "cell_type": "code",
   "execution_count": 1,
   "metadata": {},
   "outputs": [],
   "source": [
    "# prepare input set\n",
    "\n",
    "input_set = []\n",
    "output_set = []\n",
    "\n",
    "input_set.append([1,2,3])\n",
    "output_set.append([1,2,4])\n",
    "input_set.append([9,9,9])\n",
    "output_set.append([1,0,0,0])\n",
    "input_set.append([9])\n",
    "output_set.append([1,0])"
   ]
  },
  {
   "cell_type": "code",
   "execution_count": 2,
   "metadata": {},
   "outputs": [],
   "source": [
    "def increment_interger(input_):\n",
    "    \"\"\"\n",
    "        Problem des: increment an arbitrary precision integer\n",
    "        \n",
    "        Hint: \n",
    "            two cases: extra space needed, no extra space needed\n",
    "        Time:\n",
    "            O(n)\n",
    "        Space:\n",
    "            O(n)\n",
    "    \"\"\"\n",
    "    # initialize variable needed\n",
    "    carry = 1\n",
    "    index = len(input_) - 1 # index of operation\n",
    "    \n",
    "    \n",
    "    while not carry == 0 and index >= 0:\n",
    "        # at index i\n",
    "        sum_ = input_[index] + carry\n",
    "        input_[index] = sum_ % 10\n",
    "        carry = sum_ // 10\n",
    "        index -= 1\n",
    "    \n",
    "    if not carry == 0:\n",
    "        input_ = [1]+[0]*len(input_)\n",
    "        \n",
    "    return input_"
   ]
  },
  {
   "cell_type": "code",
   "execution_count": 3,
   "metadata": {},
   "outputs": [],
   "source": [
    "def test(input_, output_):\n",
    "    \n",
    "    result = increment_interger(input_)\n",
    "    \n",
    "    for i, value in enumerate(result):\n",
    "        if not value == output_[i]:\n",
    "            print (\"Wrong\")\n",
    "            \n",
    "            return -1\n",
    "        \n",
    "    print( \"Correct\")\n",
    "    \n",
    "    return 0"
   ]
  },
  {
   "cell_type": "code",
   "execution_count": 4,
   "metadata": {},
   "outputs": [
    {
     "name": "stdout",
     "output_type": "stream",
     "text": [
      "Correct\n",
      "Correct\n",
      "Correct\n"
     ]
    },
    {
     "data": {
      "text/plain": [
       "0"
      ]
     },
     "execution_count": 4,
     "metadata": {},
     "output_type": "execute_result"
    }
   ],
   "source": [
    "test(input_set[0], output_set[0])\n",
    "test(input_set[1], output_set[1])\n",
    "test(input_set[2], output_set[2])"
   ]
  },
  {
   "cell_type": "code",
   "execution_count": null,
   "metadata": {},
   "outputs": [],
   "source": []
  }
 ],
 "metadata": {
  "kernelspec": {
   "display_name": "Python 3",
   "language": "python",
   "name": "python3"
  },
  "language_info": {
   "codemirror_mode": {
    "name": "ipython",
    "version": 3
   },
   "file_extension": ".py",
   "mimetype": "text/x-python",
   "name": "python",
   "nbconvert_exporter": "python",
   "pygments_lexer": "ipython3",
   "version": "3.5.2"
  }
 },
 "nbformat": 4,
 "nbformat_minor": 2
}
