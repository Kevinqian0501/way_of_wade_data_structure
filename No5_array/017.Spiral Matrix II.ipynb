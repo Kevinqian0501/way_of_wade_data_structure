{
 "cells": [
  {
   "cell_type": "markdown",
   "metadata": {},
   "source": [
    "Given an integer n, generate a square matrix filled with elements from 1 to n2 in spiral order.\n",
    "\n",
    "For example,\n",
    "Given n = 3,\n",
    "\n",
    "    You should return the following matrix:\n",
    "        [\n",
    "         [ 1, 2, 3 ],\n",
    "         [ 8, 9, 4 ],\n",
    "         [ 7, 6, 5 ]\n",
    "        ]\n"
   ]
  },
  {
   "cell_type": "code",
   "execution_count": 41,
   "metadata": {},
   "outputs": [
    {
     "name": "stderr",
     "output_type": "stream",
     "text": [
      ".....\n",
      "----------------------------------------------------------------------\n",
      "Ran 5 tests in 0.003s\n",
      "\n",
      "OK\n"
     ]
    },
    {
     "data": {
      "text/plain": [
       "<unittest.main.TestProgram at 0x7f1cee924b38>"
      ]
     },
     "execution_count": 41,
     "metadata": {},
     "output_type": "execute_result"
    }
   ],
   "source": [
    "class Solution:\n",
    "    def generateMatrix(self, n):\n",
    "        \"\"\"\n",
    "        :type n: int\n",
    "        :rtype: List[List[int]]\n",
    "        \"\"\"\n",
    "        self.init_matrix(n)\n",
    "        start_index = [0, 0]\n",
    "        start_value = 0\n",
    "        for i in range(n//2):\n",
    "            length = n - 1 - 2*i\n",
    "            start_value = self.add_row_by_delta([i, i], start_value, 1, length)\n",
    "            start_value = self.add_col_by_delta([i, i+length], start_value, 1, length)\n",
    "            start_value = self.add_row_by_delta([i+length, i+length], start_value, -1, length)\n",
    "            start_value = self.add_col_by_delta([i+length, i], start_value, -1, length)\n",
    "\n",
    "        if n % 2 == 1:\n",
    "            self.matrix[n//2][n//2] = start_value + 1\n",
    "        \n",
    "    def init_matrix(self, n):\n",
    "        self.matrix = [[0 for i in range(n)] for i in range(n)]\n",
    "    \n",
    "    def add_row_by_delta(self, start_index = [0,0], start_value = 0, delta = 1, length = 2):\n",
    "        for i in range(length):\n",
    "            self.matrix[start_index[0]][start_index[1]+i*delta] = start_value + 1\n",
    "            start_value = self.matrix[start_index[0]][start_index[1]+i*delta]\n",
    "        \n",
    "        return start_value\n",
    "    \n",
    "    def add_col_by_delta(self, start_index = [0,0], start_value = 0, delta = 1, length = 2):\n",
    "        for i in range(length):\n",
    "            self.matrix[start_index[0]+i*delta][start_index[1]] = start_value + 1\n",
    "            start_value = self.matrix[start_index[0]+i*delta][start_index[1]]\n",
    "        return start_value\n",
    "        \n",
    "        \n",
    "        \n",
    "import unittest\n",
    "class Test(unittest.TestCase):\n",
    "    def test_init_matrix(self):\n",
    "        sol = Solution()\n",
    "        sol.init_matrix(3)\n",
    "        expected = [[0, 0, 0], [0, 0, 0], [0, 0, 0]]\n",
    "        self.assertListEqual(sol.matrix, expected)\n",
    "    def test_add_row_by_delta(self):\n",
    "        sol = Solution()\n",
    "        sol.init_matrix(3)\n",
    "        sol.add_row_by_delta(start_index = [0,0], start_value = 0, delta = 1, length = 3)\n",
    "        expected = [[1, 2, 3], [0, 0, 0], [0, 0, 0]]\n",
    "        self.assertListEqual(sol.matrix, expected)\n",
    "    def test_add_col_by_delta(self):\n",
    "        sol = Solution()\n",
    "        sol.init_matrix(3)\n",
    "        sol.add_col_by_delta(start_index = [0,0], start_value = 0, delta = 1, length = 3)\n",
    "        expected = [[1, 0, 0], [2, 0, 0], [3, 0, 0]]\n",
    "        self.assertListEqual(sol.matrix, expected)\n",
    "        \n",
    "    def test_generateMatrix(self):\n",
    "        sol = Solution()\n",
    "        sol.generateMatrix(5)\n",
    "        expected = [[1, 2, 3, 4, 5], [16, 17, 18, 19, 6], [15, 24, 25, 20, 7], [14, 23, 22, 21, 8], [13, 12, 11, 10, 9]]\n",
    "        self.assertListEqual(sol.matrix, expected)\n",
    "        \n",
    "    def test_generateMatrix_1(self):\n",
    "        sol = Solution()\n",
    "        sol.generateMatrix(0)\n",
    "        expected = []\n",
    "        self.assertListEqual(sol.matrix, expected)\n",
    "\n",
    "unittest.main(argv=['first-arg-is-ignored'], exit=False)\n",
    "        "
   ]
  },
  {
   "cell_type": "code",
   "execution_count": 2,
   "metadata": {},
   "outputs": [
    {
     "data": {
      "text/plain": [
       "[[0, 0, 0], [0, 0, 0], [0, 0, 0]]"
      ]
     },
     "execution_count": 2,
     "metadata": {},
     "output_type": "execute_result"
    }
   ],
   "source": [
    "[[0 for i in range(3)] for i in range(3)]"
   ]
  },
  {
   "cell_type": "code",
   "execution_count": null,
   "metadata": {},
   "outputs": [],
   "source": []
  }
 ],
 "metadata": {
  "kernelspec": {
   "display_name": "Python 3",
   "language": "python",
   "name": "python3"
  },
  "language_info": {
   "codemirror_mode": {
    "name": "ipython",
    "version": 3
   },
   "file_extension": ".py",
   "mimetype": "text/x-python",
   "name": "python",
   "nbconvert_exporter": "python",
   "pygments_lexer": "ipython3",
   "version": "3.5.2"
  }
 },
 "nbformat": 4,
 "nbformat_minor": 2
}
