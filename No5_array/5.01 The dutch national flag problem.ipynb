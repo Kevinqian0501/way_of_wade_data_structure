{
 "cells": [
  {
   "cell_type": "code",
   "execution_count": 1,
   "metadata": {},
   "outputs": [],
   "source": [
    "from random import shuffle"
   ]
  },
  {
   "cell_type": "code",
   "execution_count": 2,
   "metadata": {},
   "outputs": [],
   "source": [
    "# prepare input set\n",
    "\n",
    "dictionary = {0:'red', 1:'white', 2:'blue'}\n",
    "\n",
    "input_ = [0,0,0,0,1,1,1,1,2,2,2,2]*3\n",
    "output = [0,0,0,0,1,1,1,1,2,2,2,2]*3\n",
    "output.sort()\n",
    "\n",
    "def get_input(input_):\n",
    "    shuffle(input_)\n",
    "\n",
    "    input_ = [dictionary[i] for i in input_]\n",
    "    \n",
    "    return input_\n",
    "\n",
    "input_set = []\n",
    "\n",
    "input_set.append(get_input(input_))\n",
    "input_set.append(get_input(input_))\n",
    "input_set.append(get_input(input_))\n",
    "\n",
    "output = [dictionary[i] for i in output]"
   ]
  },
  {
   "cell_type": "code",
   "execution_count": 3,
   "metadata": {},
   "outputs": [],
   "source": [
    "def dutch_flag_partition(input_):\n",
    "    \"\"\"\n",
    "        problem discription: sort flag problem\n",
    "        \n",
    "        approach: use three index\n",
    "        \n",
    "        time: O(n)\n",
    "        \n",
    "        space: inspace\n",
    "    \"\"\"\n",
    "    \n",
    "    #initialize three indexs to write color\n",
    "    index1, index2, index3 = 0,0,0\n",
    "    \n",
    "    for i, value in enumerate(input_):\n",
    "        if value == 'red':\n",
    "            # insert operation\n",
    "            # insert can be equal to two modify operation\n",
    "            input_[index3] = 'blue'\n",
    "            index3 += 1\n",
    "            input_[index2] = 'white'\n",
    "            index2 += 1\n",
    "            input_[index1] = 'red'\n",
    "            index1 += 1\n",
    "        elif value == 'white':\n",
    "            input_[index3] = 'blue'\n",
    "            index3 += 1\n",
    "            input_[index2] = 'white'\n",
    "            index2 += 1\n",
    "        else:\n",
    "            input_[index3] = 'blue'\n",
    "            index3 += 1\n",
    "    \n",
    "    return input_"
   ]
  },
  {
   "cell_type": "code",
   "execution_count": 4,
   "metadata": {},
   "outputs": [],
   "source": [
    "def test(input_, output_):\n",
    "    \n",
    "    result = dutch_flag_partition(input_)\n",
    "    \n",
    "    for i, value in enumerate(result):\n",
    "        if not value == output_[i]:\n",
    "            print (\"Wrong\")\n",
    "            \n",
    "            return -1\n",
    "        \n",
    "    print( \"Correct\")\n",
    "    \n",
    "    return 0"
   ]
  },
  {
   "cell_type": "code",
   "execution_count": 5,
   "metadata": {},
   "outputs": [
    {
     "name": "stdout",
     "output_type": "stream",
     "text": [
      "Correct\n",
      "Correct\n",
      "Correct\n"
     ]
    },
    {
     "data": {
      "text/plain": [
       "0"
      ]
     },
     "execution_count": 5,
     "metadata": {},
     "output_type": "execute_result"
    }
   ],
   "source": [
    "test(input_set[0], output)\n",
    "test(input_set[1], output)\n",
    "test(input_set[2], output)"
   ]
  },
  {
   "cell_type": "markdown",
   "metadata": {},
   "source": [
    "### insert can be equal to two modify operation"
   ]
  },
  {
   "cell_type": "code",
   "execution_count": null,
   "metadata": {},
   "outputs": [],
   "source": []
  }
 ],
 "metadata": {
  "kernelspec": {
   "display_name": "Python 3",
   "language": "python",
   "name": "python3"
  },
  "language_info": {
   "codemirror_mode": {
    "name": "ipython",
    "version": 3
   },
   "file_extension": ".py",
   "mimetype": "text/x-python",
   "name": "python",
   "nbconvert_exporter": "python",
   "pygments_lexer": "ipython3",
   "version": "3.5.2"
  }
 },
 "nbformat": 4,
 "nbformat_minor": 2
}
