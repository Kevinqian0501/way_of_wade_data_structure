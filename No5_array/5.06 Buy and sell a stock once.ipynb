{
 "cells": [
  {
   "cell_type": "code",
   "execution_count": 3,
   "metadata": {},
   "outputs": [],
   "source": [
    "def buy_and_sell_once(stock):\n",
    "    \"\"\"\n",
    "        given a series of stock price, trace the profit. Return the best availabel one\n",
    "        \n",
    "        Hint: keep tracking min price and max profit\n",
    "        \n",
    "    \"\"\"\n",
    "    \n",
    "    min_ = stock[0]\n",
    "    profit = 0\n",
    "    \n",
    "    for i, v in enumerate(stock):\n",
    "        profit = max(profit, v - min_)\n",
    "        min_ = min(min_, v)\n",
    "    \n",
    "    return profit"
   ]
  },
  {
   "cell_type": "code",
   "execution_count": 5,
   "metadata": {},
   "outputs": [
    {
     "name": "stdout",
     "output_type": "stream",
     "text": [
      "Correct\n"
     ]
    }
   ],
   "source": [
    "def test(stock, profit):\n",
    "    result = buy_and_sell_once(stock)\n",
    "    \n",
    "    if result == profit:\n",
    "        print(\"Correct\")\n",
    "    else:\n",
    "        print(\"Wrong!\")\n",
    "\n",
    "stock = [310,310,315,275,275,295,260,260,270,290,230,230,230,230, 255,250]   \n",
    "profit = 30\n",
    "test(stock, profit)"
   ]
  },
  {
   "cell_type": "code",
   "execution_count": null,
   "metadata": {},
   "outputs": [],
   "source": []
  }
 ],
 "metadata": {
  "kernelspec": {
   "display_name": "Python 3",
   "language": "python",
   "name": "python3"
  },
  "language_info": {
   "codemirror_mode": {
    "name": "ipython",
    "version": 3
   },
   "file_extension": ".py",
   "mimetype": "text/x-python",
   "name": "python",
   "nbconvert_exporter": "python",
   "pygments_lexer": "ipython3",
   "version": "3.5.2"
  }
 },
 "nbformat": 4,
 "nbformat_minor": 2
}
