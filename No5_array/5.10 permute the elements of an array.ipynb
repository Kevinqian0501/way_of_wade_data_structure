{
 "cells": [
  {
   "cell_type": "code",
   "execution_count": 1,
   "metadata": {},
   "outputs": [],
   "source": [
    "def permute_element_of_an_array(input_, index):\n",
    "    \"\"\"\n",
    "        permute element of an array and use only O(1) extra space\n",
    "        \n",
    "        Hint:\n",
    "            define update rule and workout the whole process on draft paper so you can define the rule easier \n",
    "    \"\"\"\n",
    "    for i, v in enumerate(input_):\n",
    "        \n",
    "        #read new index\n",
    "        reindex = index[i]\n",
    "        current_index = i\n",
    "        \n",
    "        while reindex > 0 and not reindex == i:\n",
    "            input_[current_index] = input_[reindex] # update current index value\n",
    "            current_index = reindex # go to next index and update current index\n",
    "            reindex = index[current_index ] # update next index\n",
    "            index[current_index] *= -1 # mark current index as visited\n",
    "        \n",
    "        if reindex == i:\n",
    "            input_[current_index] = v\n",
    "\n",
    "    return input_"
   ]
  },
  {
   "cell_type": "code",
   "execution_count": 3,
   "metadata": {},
   "outputs": [
    {
     "data": {
      "text/plain": [
       "['e', 'd', 'a', 'b', 'c']"
      ]
     },
     "execution_count": 3,
     "metadata": {},
     "output_type": "execute_result"
    }
   ],
   "source": [
    "input_, index = ['a','c', 'b','d','e'], [4,3,0,2,1]\n",
    "\n",
    "permute_element_of_an_array(input_, index)"
   ]
  },
  {
   "cell_type": "code",
   "execution_count": null,
   "metadata": {},
   "outputs": [],
   "source": []
  }
 ],
 "metadata": {
  "kernelspec": {
   "display_name": "Python 3",
   "language": "python",
   "name": "python3"
  },
  "language_info": {
   "codemirror_mode": {
    "name": "ipython",
    "version": 3
   },
   "file_extension": ".py",
   "mimetype": "text/x-python",
   "name": "python",
   "nbconvert_exporter": "python",
   "pygments_lexer": "ipython3",
   "version": "3.5.2"
  }
 },
 "nbformat": 4,
 "nbformat_minor": 2
}
