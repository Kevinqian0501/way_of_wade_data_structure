{
 "cells": [
  {
   "cell_type": "markdown",
   "metadata": {},
   "source": [
    "Given a set of distinct integers, nums, return all possible subsets (the power set).\n",
    "\n",
    "Note: The solution set must not contain duplicate subsets.\n",
    "\n",
    "    For example,\n",
    "    If nums = [1,2,3], a solution is:\n",
    "\n",
    "    [\n",
    "      [3],\n",
    "      [1],\n",
    "      [2],\n",
    "      [1,2,3],\n",
    "      [1,3],\n",
    "      [2,3],\n",
    "      [1,2],\n",
    "      []\n",
    "    ]\n"
   ]
  },
  {
   "cell_type": "code",
   "execution_count": 27,
   "metadata": {},
   "outputs": [],
   "source": [
    "class Solution:\n",
    "    def subsets(self, nums):\n",
    "        \"\"\"\n",
    "        :type nums: List[int]\n",
    "        :rtype: List[List[int]]\n",
    "        \"\"\"\n",
    "        result = [[]]\n",
    "        for num in nums:\n",
    "            result += self.get_subset(result, num)\n",
    "        return result\n",
    "        \n",
    "    def get_subset(self, subsets, item):\n",
    "        \n",
    "        new_subset_with_item = []\n",
    "        for subset in subsets:\n",
    "            new_subset_with_item.append(subset + [item])\n",
    "        \n",
    "        return new_subset_with_item\n",
    "    "
   ]
  },
  {
   "cell_type": "code",
   "execution_count": 57,
   "metadata": {},
   "outputs": [],
   "source": [
    "import unittest\n",
    "\n",
    "class Test(unittest.TestCase):\n",
    "    def test_get_subset(self):\n",
    "        subsets = [[]]\n",
    "        item = 1\n",
    "        expected = [[1]]\n",
    "        sol = Solution()\n",
    "        result = sol.get_subset(subsets, item)\n",
    "        self.assertCountEqual(result, expected)"
   ]
  },
  {
   "cell_type": "code",
   "execution_count": 58,
   "metadata": {},
   "outputs": [
    {
     "name": "stderr",
     "output_type": "stream",
     "text": [
      ".\n",
      "----------------------------------------------------------------------\n",
      "Ran 1 test in 0.001s\n",
      "\n",
      "OK\n"
     ]
    },
    {
     "data": {
      "text/plain": [
       "<unittest.main.TestProgram at 0x7f98ef47abe0>"
      ]
     },
     "execution_count": 58,
     "metadata": {},
     "output_type": "execute_result"
    }
   ],
   "source": [
    "unittest.main(argv=['first-arg-is-ignored'], exit=False)\n"
   ]
  },
  {
   "cell_type": "code",
   "execution_count": null,
   "metadata": {},
   "outputs": [],
   "source": []
  }
 ],
 "metadata": {
  "kernelspec": {
   "display_name": "Python 3",
   "language": "python",
   "name": "python3"
  },
  "language_info": {
   "codemirror_mode": {
    "name": "ipython",
    "version": 3
   },
   "file_extension": ".py",
   "mimetype": "text/x-python",
   "name": "python",
   "nbconvert_exporter": "python",
   "pygments_lexer": "ipython3",
   "version": "3.5.2"
  }
 },
 "nbformat": 4,
 "nbformat_minor": 2
}
