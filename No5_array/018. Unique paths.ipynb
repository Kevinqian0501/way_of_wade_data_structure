{
 "cells": [
  {
   "cell_type": "markdown",
   "metadata": {},
   "source": [
    "A robot is located at the top-left corner of a m x n grid (marked 'Start' in the diagram below).\n",
    "\n",
    "The robot can only move either down or right at any point in time. The robot is trying to reach the bottom-right corner of the grid (marked 'Finish' in the diagram below).\n",
    "\n",
    "How many possible unique paths are there?"
   ]
  },
  {
   "cell_type": "code",
   "execution_count": 1,
   "metadata": {},
   "outputs": [],
   "source": [
    "class Solution:\n",
    "    def uniquePaths(self, m, n):\n",
    "        \"\"\"\n",
    "        :type m: int\n",
    "        :type n: int\n",
    "        :rtype: int\n",
    "        \"\"\"\n",
    "        min_ = min(m, n)\n",
    "        max_ = max(m, n)\n",
    "        result = 1\n",
    "        arrange = 1\n",
    "        candidates = max_\n",
    "        for i in range(min_-1):\n",
    "            result *= candidates\n",
    "            candidates += 1\n",
    "            arrange *= (i+1)\n",
    "            \n",
    "        return result//arrange"
   ]
  },
  {
   "cell_type": "markdown",
   "metadata": {},
   "source": [
    "Follow up for \"Unique Paths\":\n",
    "\n",
    "Now consider if some obstacles are added to the grids. How many unique paths would there be?\n",
    "\n",
    "An obstacle and empty space is marked as 1 and 0 respectively in the grid.\n",
    "\n",
    "    For example,\n",
    "    There is one obstacle in the middle of a 3x3 grid as illustrated below.\n",
    "\n",
    "    [\n",
    "      [0,0,0],\n",
    "      [0,1,0],\n",
    "      [0,0,0]\n",
    "    ]\n",
    "    The total number of unique paths is 2."
   ]
  },
  {
   "cell_type": "code",
   "execution_count": 6,
   "metadata": {},
   "outputs": [
    {
     "name": "stderr",
     "output_type": "stream",
     "text": [
      "."
     ]
    },
    {
     "name": "stdout",
     "output_type": "stream",
     "text": [
      "[[0, 0]]\n"
     ]
    },
    {
     "name": "stderr",
     "output_type": "stream",
     "text": [
      "\n",
      "----------------------------------------------------------------------\n",
      "Ran 1 test in 0.001s\n",
      "\n",
      "OK\n"
     ]
    },
    {
     "data": {
      "text/plain": [
       "<unittest.main.TestProgram at 0x7f056406c1d0>"
      ]
     },
     "execution_count": 6,
     "metadata": {},
     "output_type": "execute_result"
    }
   ],
   "source": [
    "class Solution:\n",
    "    def uniquePathsWithObstacles(self, obstacleGrid):\n",
    "        \"\"\"\n",
    "        :type obstacleGrid: List[List[int]]\n",
    "        :rtype: int\n",
    "        \"\"\"\n",
    "        dp = self.init_dp(obstacleGrid)\n",
    "        return self.update_dp(dp, obstacleGrid)\n",
    "            \n",
    "        \n",
    "    \n",
    "    def init_dp(self, obstacleGrid):\n",
    "        n_row = len(obstacleGrid)\n",
    "        n_col = len(obstacleGrid[0])\n",
    "        dp = [[0 for _ in range(n_col)] for _ in range(n_row)]\n",
    "        for i in range(n_row):\n",
    "            if obstacleGrid[i][0] !=1:\n",
    "                dp[i][0] = 1\n",
    "            else:\n",
    "                break\n",
    "        for j in range(n_col):\n",
    "            if obstacleGrid[0][j] !=1:\n",
    "                dp[0][j] = 1\n",
    "            else:\n",
    "                break\n",
    "        return dp\n",
    "    \n",
    "    def update_dp(self, dp, obstacleGrid):\n",
    "        n_row = len(obstacleGrid)\n",
    "        n_col = len(obstacleGrid[0])\n",
    "        for i in range(1, n_row):\n",
    "            for j in range(1, n_col):\n",
    "                if obstacleGrid[i][j] != 1:\n",
    "                    dp[i][j] = dp[i-1][j] + dp[i][j-1]\n",
    "        return dp[-1][-1]\n",
    "    \n",
    "import unittest\n",
    "class Test(unittest.TestCase):\n",
    "    def test_init_dp(self):\n",
    "        sol = Solution()\n",
    "        obstacleGrid = [[1,0]]\n",
    "        print(sol.init_dp(obstacleGrid))\n",
    "        \n",
    "unittest.main(argv=['first-arg-is-ignored'], exit=False)\n",
    "\n",
    "        \n",
    "                \n",
    "        "
   ]
  },
  {
   "cell_type": "code",
   "execution_count": null,
   "metadata": {},
   "outputs": [],
   "source": []
  }
 ],
 "metadata": {
  "kernelspec": {
   "display_name": "Python 3",
   "language": "python",
   "name": "python3"
  },
  "language_info": {
   "codemirror_mode": {
    "name": "ipython",
    "version": 3
   },
   "file_extension": ".py",
   "mimetype": "text/x-python",
   "name": "python",
   "nbconvert_exporter": "python",
   "pygments_lexer": "ipython3",
   "version": "3.5.2"
  }
 },
 "nbformat": 4,
 "nbformat_minor": 2
}
