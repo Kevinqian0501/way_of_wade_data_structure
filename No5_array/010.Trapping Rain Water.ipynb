{
 "cells": [
  {
   "cell_type": "markdown",
   "metadata": {},
   "source": [
    "Given n non-negative integers representing an elevation map where the width of each bar is 1, compute how much water it is able to trap after raining.\n",
    "\n",
    "    For example, \n",
    "    Given [0,1,0,2,1,0,1,3,2,1,2,1], return 6.\n",
    "\n",
    "\n",
    "The above elevation map is represented by array [0,1,0,2,1,0,1,3,2,1,2,1]. In this case, 6 units of rain water (blue section) are being trapped. Thanks Marcos for contributing this image!"
   ]
  },
  {
   "cell_type": "code",
   "execution_count": 8,
   "metadata": {},
   "outputs": [
    {
     "data": {
      "text/plain": [
       "1"
      ]
     },
     "execution_count": 8,
     "metadata": {},
     "output_type": "execute_result"
    }
   ],
   "source": [
    "class Solution:\n",
    "    def trap(self, height):\n",
    "        \"\"\"\n",
    "        :type height: List[int]\n",
    "        :rtype: int\n",
    "        \"\"\"\n",
    "        self.stack = []\n",
    "        self.result = 0\n",
    "        \n",
    "        for index, h in enumerate(height):\n",
    "            if h > 0:\n",
    "                self.update_stack(index, h)\n",
    "    \n",
    "        return self.result\n",
    "    def update_stack(self, index, h):\n",
    "\n",
    "        last_heigh = 0\n",
    "        while(len(self.stack) > 0):\n",
    "            if self.stack[-1][1] <= h:\n",
    "                self.result += (self.stack[-1][1] - last_heigh)*(index - self.stack[-1][0] - 1)\n",
    "                last_heigh = self.stack[-1][1]\n",
    "                self.stack = self.stack[:-1]\n",
    "            else:\n",
    "                self.result += (h - last_heigh)*(index - self.stack[-1][0] - 1)\n",
    "                break\n",
    "        \n",
    "        self.stack.append([index, h])\n",
    "            \n",
    "s = Solution()\n",
    "s.trap([4,2,3])"
   ]
  },
  {
   "cell_type": "code",
   "execution_count": null,
   "metadata": {},
   "outputs": [],
   "source": []
  }
 ],
 "metadata": {
  "kernelspec": {
   "display_name": "Python 3",
   "language": "python",
   "name": "python3"
  },
  "language_info": {
   "codemirror_mode": {
    "name": "ipython",
    "version": 3
   },
   "file_extension": ".py",
   "mimetype": "text/x-python",
   "name": "python",
   "nbconvert_exporter": "python",
   "pygments_lexer": "ipython3",
   "version": "3.5.2"
  }
 },
 "nbformat": 4,
 "nbformat_minor": 2
}
