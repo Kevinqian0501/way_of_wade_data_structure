{
 "cells": [
  {
   "cell_type": "markdown",
   "metadata": {},
   "source": [
    "Given a m x n matrix, if an element is 0, set its entire row and column to 0. Do it in place.\n",
    "\n",
    "click to show follow up.\n",
    "\n",
    "    Follow up:\n",
    "    Did you use extra space?\n",
    "    A straight forward solution using O(mn) space is probably a bad idea.\n",
    "    A simple improvement uses O(m + n) space, but still not the best solution.\n",
    "    Could you devise a constant space solution?"
   ]
  },
  {
   "cell_type": "code",
   "execution_count": 31,
   "metadata": {},
   "outputs": [],
   "source": [
    "class Solution:\n",
    "    def setZeroes(self, matrix):\n",
    "        \"\"\"\n",
    "        :type matrix: List[List[int]]\n",
    "        :rtype: void Do not return anything, modify matrix in-place instead.\n",
    "        \"\"\"\n",
    "        matrix = self.check_start(matrix)\n",
    "        for i in range(len(matrix)):\n",
    "            matrix = self.check_row_by_index(matrix, i)\n",
    "        matrix = self.update_row(matrix)\n",
    "        matrix = self.update_col(matrix)\n",
    "        matrix = self.update_start(matrix)\n",
    "        \n",
    "        # return matrix\n",
    "    \n",
    "    def check_start(self, matrix):\n",
    "        if matrix[0][0] == 0:\n",
    "            matrix[0][0] = [0,0]\n",
    "        else:\n",
    "            matrix[0][0] = [matrix[0][0], matrix[0][0]]\n",
    "            \n",
    "        return matrix\n",
    "    \n",
    "    def check_row_by_index(self, matrix, row_index):\n",
    "        if row_index == 0:\n",
    "            for col in range(1, len(matrix[0])):\n",
    "                if matrix[row_index][col] == 0:\n",
    "                    matrix[0][0][0] = 0\n",
    "        else:\n",
    "            for col in range(len(matrix[0])):\n",
    "                if matrix[row_index][col] == 0:\n",
    "                    if col == 0:\n",
    "                        matrix[0][col][1] = 0\n",
    "                        matrix[row_index][col] = 0\n",
    "                    else:\n",
    "                        matrix[0][col] = 0\n",
    "                        matrix[row_index][0] = 0\n",
    "        return matrix\n",
    "    \n",
    "    def update_row(self, matrix):\n",
    "        for i in range(1, len(matrix)):\n",
    "            if matrix[i][0] == 0:\n",
    "                for j in range(1, len(matrix[0])):\n",
    "                    matrix[i][j] = 0\n",
    "        return matrix\n",
    "    \n",
    "    def update_col(self, matrix):\n",
    "        for j in range(1, len(matrix[0])):\n",
    "            if matrix[0][j] == 0:\n",
    "                for i in range(1, len(matrix)):\n",
    "                    matrix[i][j] = 0\n",
    "        return matrix\n",
    "    \n",
    "    def update_start(self, matrix):\n",
    "        if matrix[0][0][0] == 0:\n",
    "            for j in range(1, len(matrix[0])):\n",
    "                matrix[0][j] = 0\n",
    "        if matrix[0][0][1] == 0:\n",
    "            for i in range(1, len(matrix)):\n",
    "                matrix[i][0] = 0\n",
    "                \n",
    "        if matrix[0][0][0] == 0 or matrix[0][0][1] == 0:\n",
    "            matrix[0][0] = 0\n",
    "        else:\n",
    "            matrix[0][0] = matrix[0][0][0]\n",
    "        return matrix\n",
    "        "
   ]
  },
  {
   "cell_type": "code",
   "execution_count": 32,
   "metadata": {},
   "outputs": [],
   "source": [
    "import unittest\n",
    "class Test(unittest.TestCase):\n",
    "    def test_check_start(self):\n",
    "        sol = Solution()\n",
    "        matrix = [[0,2,3],[2,3,4]]\n",
    "        expect = [[[0,0],2,3],[2,3,4]]\n",
    "        result = sol.check_start(matrix)\n",
    "        self.assertListEqual(expect, result)\n",
    "        \n",
    "    def test_check_row_by_index_0(self):\n",
    "        sol = Solution()\n",
    "        matrix = [[0,2,3],[2,3,4]]\n",
    "        matrix = sol.check_start(matrix)\n",
    "        expect = [[[0,0],2,3],[2,3,4]]\n",
    "        result = sol.check_row_by_index(matrix, 0)\n",
    "        self.assertListEqual(expect, result)\n",
    "    def test_check_row_by_index_1(self):\n",
    "        sol = Solution()\n",
    "        matrix = [[1,0,3],[2,3,4]]\n",
    "        matrix = sol.check_start(matrix)\n",
    "        expect = [[[0,1],0,3],[2,3,4]]\n",
    "        result = sol.check_row_by_index(matrix, 0)\n",
    "        self.assertListEqual(expect, result)\n",
    "    def test_check_row_by_index_2(self):\n",
    "        sol = Solution()\n",
    "        matrix = [[1,2,3],[2,0,4]]\n",
    "        matrix = sol.check_start(matrix)\n",
    "        expect = [[[1,1],0,3],[0,0,4]]\n",
    "        result = sol.check_row_by_index(matrix, 1)\n",
    "        self.assertListEqual(expect, result)"
   ]
  },
  {
   "cell_type": "code",
   "execution_count": 33,
   "metadata": {},
   "outputs": [
    {
     "name": "stderr",
     "output_type": "stream",
     "text": [
      "....\n",
      "----------------------------------------------------------------------\n",
      "Ran 4 tests in 0.002s\n",
      "\n",
      "OK\n"
     ]
    },
    {
     "data": {
      "text/plain": [
       "<unittest.main.TestProgram at 0x7f1ad02f7978>"
      ]
     },
     "execution_count": 33,
     "metadata": {},
     "output_type": "execute_result"
    }
   ],
   "source": [
    "unittest.main(argv=['first-arg-is-ignored'], exit=False)\n"
   ]
  },
  {
   "cell_type": "code",
   "execution_count": null,
   "metadata": {},
   "outputs": [],
   "source": []
  }
 ],
 "metadata": {
  "kernelspec": {
   "display_name": "Python 3",
   "language": "python",
   "name": "python3"
  },
  "language_info": {
   "codemirror_mode": {
    "name": "ipython",
    "version": 3
   },
   "file_extension": ".py",
   "mimetype": "text/x-python",
   "name": "python",
   "nbconvert_exporter": "python",
   "pygments_lexer": "ipython3",
   "version": "3.5.2"
  }
 },
 "nbformat": 4,
 "nbformat_minor": 2
}
