{
 "cells": [
  {
   "cell_type": "markdown",
   "metadata": {},
   "source": [
    "Given an array of integers sorted in ascending order, find the starting and ending position of a given target value.\n",
    "\n",
    "Your algorithm's runtime complexity must be in the order of O(log n).\n",
    "\n",
    "If the target is not found in the array, return [-1, -1].\n",
    "\n",
    "    For example,\n",
    "    Given [5, 7, 7, 8, 8, 10] and target value 8,\n",
    "    return [3, 4].\n",
    "\n"
   ]
  },
  {
   "cell_type": "code",
   "execution_count": 5,
   "metadata": {},
   "outputs": [
    {
     "name": "stdout",
     "output_type": "stream",
     "text": [
      "4\n"
     ]
    },
    {
     "data": {
      "text/plain": [
       "[3, 4]"
      ]
     },
     "execution_count": 5,
     "metadata": {},
     "output_type": "execute_result"
    }
   ],
   "source": [
    "class Solution:\n",
    "    def searchRange(self, nums, target):\n",
    "        \"\"\"\n",
    "        :type nums: List[int]\n",
    "        :type target: int\n",
    "        :rtype: List[int]\n",
    "        \"\"\"\n",
    "        head, tail = 0, len(nums) - 1\n",
    "        \n",
    "        while(head <= tail):\n",
    "            mid = head + (tail - head)//2\n",
    "\n",
    "            if nums[mid] < target:\n",
    "                head = mid +1\n",
    "            elif nums[mid] > target:\n",
    "                tail = mid - 1\n",
    "            else:\n",
    "                return self.find_index(nums, mid)\n",
    "            \n",
    "        return [-1,-1]\n",
    "    \n",
    "    def find_index(self, nums, mid):\n",
    "        left, right = mid, mid\n",
    "        while(left > 0 and nums[left - 1] == nums[mid]):\n",
    "            left -= 1\n",
    "        while(right < len(nums) - 1 and nums[right + 1] == nums[mid]):\n",
    "            print (right)\n",
    "            right += 1\n",
    "            \n",
    "        return [left, right]\n",
    "    \n",
    "s = Solution()\n",
    "s.searchRange([5, 7, 7, 8, 8, 10],8)"
   ]
  },
  {
   "cell_type": "code",
   "execution_count": null,
   "metadata": {},
   "outputs": [],
   "source": []
  }
 ],
 "metadata": {
  "kernelspec": {
   "display_name": "Python 3",
   "language": "python",
   "name": "python3"
  },
  "language_info": {
   "codemirror_mode": {
    "name": "ipython",
    "version": 3
   },
   "file_extension": ".py",
   "mimetype": "text/x-python",
   "name": "python",
   "nbconvert_exporter": "python",
   "pygments_lexer": "ipython3",
   "version": "3.5.2"
  }
 },
 "nbformat": 4,
 "nbformat_minor": 2
}
