{
 "cells": [
  {
   "cell_type": "code",
   "execution_count": 3,
   "metadata": {},
   "outputs": [
    {
     "name": "stdout",
     "output_type": "stream",
     "text": [
      "Correct\n"
     ]
    }
   ],
   "source": [
    "n = 10\n",
    "output = [2, 3, 5, 7]\n",
    "\n",
    "def generatePrimes(n):\n",
    "    \n",
    "    primes_array = [True]*(n+1)\n",
    "    \n",
    "    for i in range(2,n):\n",
    "        for j in range(2,n):\n",
    "            if i*j > n:\n",
    "                break;\n",
    "            else:\n",
    "                primes_array[i*j] = False\n",
    "    index = 0\n",
    "    for i in range(2,n+1):\n",
    "        if primes_array[i]:\n",
    "            primes_array[index] = i\n",
    "            index += 1\n",
    "            \n",
    "    return primes_array[:index]\n",
    "\n",
    "def test(input_, output):\n",
    "    result = generatePrimes(input_)\n",
    "    \n",
    "    for i, v in enumerate(result):\n",
    "        if not output[i] == v:\n",
    "            print(\"Wrong\")\n",
    "            return\n",
    "    print(\"Correct\")\n",
    "    return\n",
    "\n",
    "\n",
    "test(n, output)"
   ]
  },
  {
   "cell_type": "code",
   "execution_count": null,
   "metadata": {},
   "outputs": [],
   "source": []
  }
 ],
 "metadata": {
  "kernelspec": {
   "display_name": "Python 3",
   "language": "python",
   "name": "python3"
  },
  "language_info": {
   "codemirror_mode": {
    "name": "ipython",
    "version": 3
   },
   "file_extension": ".py",
   "mimetype": "text/x-python",
   "name": "python",
   "nbconvert_exporter": "python",
   "pygments_lexer": "ipython3",
   "version": "3.5.2"
  }
 },
 "nbformat": 4,
 "nbformat_minor": 2
}
