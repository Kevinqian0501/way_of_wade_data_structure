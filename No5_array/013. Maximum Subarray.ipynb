{
 "cells": [
  {
   "cell_type": "markdown",
   "metadata": {},
   "source": [
    "Find the contiguous subarray within an array (containing at least one number) which has the largest sum.\n",
    "\n",
    "For example, given the array [-2,1,-3,4,-1,2,1,-5,4],\n",
    "the contiguous subarray [4,-1,2,1] has the largest sum = 6.\n",
    "\n",
    "click to show more practice.\n",
    "\n"
   ]
  },
  {
   "cell_type": "code",
   "execution_count": 1,
   "metadata": {},
   "outputs": [],
   "source": [
    "class Solution:\n",
    "    def maxSubArray(self, nums):\n",
    "        \"\"\"\n",
    "        :type nums: List[int]\n",
    "        :rtype: int\n",
    "        \"\"\"\n",
    "        if len(nums) == 0:\n",
    "            return 0\n",
    "        walker, max_sum,current_value = 0, -float('Inf'), 0 # initialze two pointer\n",
    "        while(walker < len(nums)):\n",
    "            \n",
    "            if current_value <= 0:\n",
    "                current_value = nums[walker]\n",
    "            else:\n",
    "                current_value += nums[walker]\n",
    "            \n",
    "            max_sum = max(max_sum, current_value)\n",
    "            walker += 1\n",
    "        \n",
    "        return max_sum"
   ]
  },
  {
   "cell_type": "code",
   "execution_count": 6,
   "metadata": {},
   "outputs": [],
   "source": [
    "import unittest\n",
    "\n",
    "class Test(unittest.TestCase):\n",
    "    def test_maxSubArray(self):\n",
    "        \"\"\"\n",
    "        \"\"\"\n",
    "        s = Solution()\n",
    "        nums = [-2,1,-3,4,-1,2,1,-5,4]\n",
    "        result = s.maxSubArray(nums)\n",
    "        expected = 6\n",
    "        self.assertEqual(result, expected)"
   ]
  },
  {
   "cell_type": "code",
   "execution_count": 7,
   "metadata": {},
   "outputs": [],
   "source": [
    "T = Test()\n",
    "T.test_maxSubArray()"
   ]
  },
  {
   "cell_type": "code",
   "execution_count": null,
   "metadata": {},
   "outputs": [],
   "source": []
  }
 ],
 "metadata": {
  "kernelspec": {
   "display_name": "Python 3",
   "language": "python",
   "name": "python3"
  },
  "language_info": {
   "codemirror_mode": {
    "name": "ipython",
    "version": 3
   },
   "file_extension": ".py",
   "mimetype": "text/x-python",
   "name": "python",
   "nbconvert_exporter": "python",
   "pygments_lexer": "ipython3",
   "version": "3.5.2"
  }
 },
 "nbformat": 4,
 "nbformat_minor": 2
}
