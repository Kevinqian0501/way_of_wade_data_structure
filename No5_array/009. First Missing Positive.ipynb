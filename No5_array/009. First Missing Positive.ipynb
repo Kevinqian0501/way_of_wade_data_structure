{
 "cells": [
  {
   "cell_type": "markdown",
   "metadata": {},
   "source": [
    "Given an unsorted integer array, find the first missing positive integer.\n",
    "\n",
    "    For example,\n",
    "    Given [1,2,0] return 3,\n",
    "    and [3,4,-1,1] return 2.\n",
    "\n",
    "Your algorithm should run in O(n) time and uses constant space.\n",
    "\n"
   ]
  },
  {
   "cell_type": "code",
   "execution_count": 36,
   "metadata": {},
   "outputs": [
    {
     "data": {
      "text/plain": [
       "3"
      ]
     },
     "execution_count": 36,
     "metadata": {},
     "output_type": "execute_result"
    }
   ],
   "source": [
    "class Solution:\n",
    "    def firstMissingPositive(self, nums):\n",
    "        \"\"\"\n",
    "        :type nums: List[int]\n",
    "        :rtype: int\n",
    "        \"\"\"\n",
    "        self.update_array(nums)\n",
    "        return self.find_missing(nums)\n",
    "        \n",
    "\n",
    "    def update_array(self, nums):\n",
    "        for i in range(len(nums)):\n",
    "            value = nums[i]\n",
    "            index = value - 1\n",
    "            while(value > 0 and index < len(nums) and nums[index] != value):\n",
    "                temp = nums[index]\n",
    "                nums[index] = value\n",
    "                value = temp\n",
    "                index = value - 1\n",
    "        return nums\n",
    "    \n",
    "    \n",
    "    def find_missing(self, nums):\n",
    "        for i, v in enumerate(nums):\n",
    "            if i + 1 != v:\n",
    "                return i+1\n",
    "        return len(nums)+1\n",
    "\n",
    "s = Solution()\n",
    "s.firstMissingPositive([1,2,0])"
   ]
  },
  {
   "cell_type": "code",
   "execution_count": 30,
   "metadata": {},
   "outputs": [
    {
     "data": {
      "text/plain": [
       "2"
      ]
     },
     "execution_count": 30,
     "metadata": {},
     "output_type": "execute_result"
    }
   ],
   "source": [
    "s.find_pos_len([1,1])"
   ]
  },
  {
   "cell_type": "code",
   "execution_count": null,
   "metadata": {},
   "outputs": [],
   "source": []
  }
 ],
 "metadata": {
  "kernelspec": {
   "display_name": "Python 3",
   "language": "python",
   "name": "python3"
  },
  "language_info": {
   "codemirror_mode": {
    "name": "ipython",
    "version": 3
   },
   "file_extension": ".py",
   "mimetype": "text/x-python",
   "name": "python",
   "nbconvert_exporter": "python",
   "pygments_lexer": "ipython3",
   "version": "3.5.2"
  }
 },
 "nbformat": 4,
 "nbformat_minor": 2
}
