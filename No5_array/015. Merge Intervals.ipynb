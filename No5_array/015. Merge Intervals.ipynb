{
 "cells": [
  {
   "cell_type": "markdown",
   "metadata": {},
   "source": [
    "Given a collection of intervals, merge all overlapping intervals.\n",
    "\n",
    "    For example,\n",
    "    Given [1,3],[2,6],[8,10],[15,18],\n",
    "    return [1,6],[8,10],[15,18]."
   ]
  },
  {
   "cell_type": "code",
   "execution_count": 1,
   "metadata": {},
   "outputs": [],
   "source": [
    "input_list = [[100,103],[2,6],[8,10],[15,18]]\n",
    "input_list.sort(key=lambda x: x[0])"
   ]
  },
  {
   "cell_type": "code",
   "execution_count": 2,
   "metadata": {},
   "outputs": [],
   "source": [
    "class Solution:\n",
    "    def merge(self, intervals):\n",
    "        \"\"\"\n",
    "        :type intervals: List[Interval]\n",
    "        :rtype: List[Interval]\n",
    "        \"\"\"\n",
    "        self.result = []\n",
    "        intervals.sort(key=lambda x: x[0])\n",
    "        \n",
    "        current_index = 0\n",
    "        while(current_index < len(intervals)):\n",
    "            #add interval\n",
    "            self.result.append(intervals[current_index])\n",
    "            #update interval\n",
    "            current_index += 1\n",
    "            while (current_index < len(intervals) and intervals[current_index][0] <= self.result[-1][-1]):\n",
    "                self.result[-1][-1] = max(self.result[-1][-1], intervals[current_index][-1])\n",
    "                current_index += 1\n",
    "                \n",
    "        return self.result    "
   ]
  },
  {
   "cell_type": "code",
   "execution_count": 3,
   "metadata": {},
   "outputs": [
    {
     "data": {
      "text/plain": [
       "[[2, 10], [15, 18], [100, 103]]"
      ]
     },
     "execution_count": 3,
     "metadata": {},
     "output_type": "execute_result"
    }
   ],
   "source": [
    "s = Solution()\n",
    "s.merge([[100,103],[2,9],[8,10],[15,18]])"
   ]
  },
  {
   "cell_type": "code",
   "execution_count": null,
   "metadata": {},
   "outputs": [],
   "source": []
  },
  {
   "cell_type": "code",
   "execution_count": null,
   "metadata": {},
   "outputs": [],
   "source": []
  }
 ],
 "metadata": {
  "kernelspec": {
   "display_name": "Python 3",
   "language": "python",
   "name": "python3"
  },
  "language_info": {
   "codemirror_mode": {
    "name": "ipython",
    "version": 3
   },
   "file_extension": ".py",
   "mimetype": "text/x-python",
   "name": "python",
   "nbconvert_exporter": "python",
   "pygments_lexer": "ipython3",
   "version": "3.5.2"
  }
 },
 "nbformat": 4,
 "nbformat_minor": 2
}
