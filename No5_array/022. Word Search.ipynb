{
 "cells": [
  {
   "cell_type": "markdown",
   "metadata": {},
   "source": [
    "Given a 2D board and a word, find if the word exists in the grid.\n",
    "\n",
    "The word can be constructed from letters of sequentially adjacent cell, where \"adjacent\" cells are those horizontally or vertically neighboring. The same letter cell may not be used more than once.\n",
    "\n",
    "    For example,\n",
    "    Given board =\n",
    "\n",
    "    [\n",
    "      ['A','B','C','E'],\n",
    "      ['S','F','C','S'],\n",
    "      ['A','D','E','E']\n",
    "    ]\n",
    "    word = \"ABCCED\", -> returns true,\n",
    "    word = \"SEE\", -> returns true,\n",
    "    word = \"ABCB\", -> returns false."
   ]
  },
  {
   "cell_type": "code",
   "execution_count": 20,
   "metadata": {},
   "outputs": [],
   "source": [
    "class Solution:\n",
    "    def exist(self, board, word):\n",
    "        \"\"\"\n",
    "        :type board: List[List[str]]\n",
    "        :type word: str\n",
    "        :rtype: bool\n",
    "        \"\"\"\n",
    "        self.board_map, self.board_dict = self.generate_map(board)\n",
    "        \n",
    "        if word[0] in self.board_dict.keys():\n",
    "            candidates = self.board_dict[word[0]]\n",
    "            for candi_index in candidates:\n",
    "                self.board_map[candi_index[0]][candi_index[1]] = True\n",
    "                if self.check_word_exist(candi_index, word[1:], board):\n",
    "                    return True\n",
    "                self.board_map[candi_index[0]][candi_index[1]] = False\n",
    "        return False\n",
    "        \n",
    "    def check_word_exist(self, index, word, board):\n",
    "        if len(word) == 0:\n",
    "            return True\n",
    "        \n",
    "        if word[0] in self.board_dict.keys():\n",
    "            if self.check_horizon(index, word, board):\n",
    "                return True\n",
    "            if self.check_virizon(index, word, board):\n",
    "                return True\n",
    "            \n",
    "            \n",
    "        return False\n",
    "    \n",
    "    def check_horizon(self, index, word, board):\n",
    "        if index[0] - 1 >= 0 and self.board_map[index[0]-1][index[1]] == False and board[index[0]-1][index[1]] == word[0]:\n",
    "            self.board_map[index[0]-1][index[1]] = True\n",
    "            if self.check_word_exist([index[0] - 1, index[1]], word[1:], board):\n",
    "                return True\n",
    "            else:\n",
    "                self.board_map[index[0]-1][index[1]] = False\n",
    "            \n",
    "        if index[0] + 1 < len(board) and self.board_map[index[0]+1][index[1]] == False and board[index[0]+1][index[1]] == word[0]:\n",
    "            self.board_map[index[0]+1][index[1]] = True\n",
    "            if self.check_word_exist([index[0] + 1, index[1]], word[1:], board):\n",
    "                return True\n",
    "            else:\n",
    "                self.board_map[index[0]+1][index[1]] = False\n",
    "        \n",
    "        return False\n",
    "    \n",
    "    def check_virizon(self, index, word, board):\n",
    "        if index[1] - 1 >= 0 and self.board_map[index[0]][index[1]-1] == False and board[index[0]][index[1]-1] == word[0]:\n",
    "            self.board_map[index[0]][index[1] - 1] = True\n",
    "            if self.check_word_exist([index[0], index[1] - 1], word[1:], board):\n",
    "                return True\n",
    "            else:\n",
    "                self.board_map[index[0]][index[1] - 1] = False\n",
    "            \n",
    "        if index[1] + 1 < len(board[0]) and self.board_map[index[0]][index[1]+1] == False and board[index[0]][index[1]+1] == word[0]:\n",
    "            self.board_map[index[0]][index[1] + 1] = True\n",
    "            if self.check_word_exist([index[0], index[1] + 1], word[1:], board):\n",
    "                return True\n",
    "            else:\n",
    "                self.board_map[index[0]][index[1] + 1] = False\n",
    "        \n",
    "        return False\n",
    "    \n",
    "    \n",
    "    def generate_map(self, board):\n",
    "        board_map = []\n",
    "        board_dict = {}\n",
    "        for i in range(len(board)):\n",
    "            row_map = []\n",
    "            for j in range(len(board[0])):\n",
    "                row_map.append(False)\n",
    "                if board[i][j] in board_dict.keys():\n",
    "                    board_dict[board[i][j]].append([i, j])\n",
    "                else:\n",
    "                    board_dict[board[i][j]] = [[i, j]]\n",
    "            board_map.append(row_map)\n",
    "        return board_map, board_dict\n",
    "    \n",
    "        "
   ]
  },
  {
   "cell_type": "code",
   "execution_count": 23,
   "metadata": {},
   "outputs": [],
   "source": [
    "import unittest\n",
    "\n",
    "class Test(unittest.TestCase):\n",
    "    def test_generate_map(self):\n",
    "        sol = Solution()\n",
    "        board = [\n",
    "                  ['A','B','C','E'],\n",
    "                  ['S','F','C','S'],\n",
    "                  ['A','D','E','E']\n",
    "                ]\n",
    "        expected = [\n",
    "                  [False,False,False,False],\n",
    "                  [False,False,False,False],\n",
    "                  [False,False,False,False]\n",
    "                ]\n",
    "        word_dict = {'F': [[1, 1]], 'C': [[0, 2], [1, 2]], 'A': [[0, 0], [2, 0]], 'S': [[1, 0], [1, 3]], 'D': [[2, 1]], 'B': [[0, 1]], 'E': [[0, 3], [2, 2], [2, 3]]}\n",
    "        result, dic = sol.generate_map(board)\n",
    "        self.assertCountEqual(expected, result)\n",
    "        self.assertDictEqual(word_dict, dic)\n",
    "        "
   ]
  },
  {
   "cell_type": "code",
   "execution_count": 24,
   "metadata": {},
   "outputs": [
    {
     "name": "stderr",
     "output_type": "stream",
     "text": [
      ".\n",
      "----------------------------------------------------------------------\n",
      "Ran 1 test in 0.001s\n",
      "\n",
      "OK\n"
     ]
    },
    {
     "data": {
      "text/plain": [
       "<unittest.main.TestProgram at 0x7ff03af6f550>"
      ]
     },
     "execution_count": 24,
     "metadata": {},
     "output_type": "execute_result"
    }
   ],
   "source": [
    "unittest.main(argv=['first-arg-is-ignored'], exit=False)"
   ]
  },
  {
   "cell_type": "code",
   "execution_count": null,
   "metadata": {},
   "outputs": [],
   "source": []
  }
 ],
 "metadata": {
  "kernelspec": {
   "display_name": "Python 3",
   "language": "python",
   "name": "python3"
  },
  "language_info": {
   "codemirror_mode": {
    "name": "ipython",
    "version": 3
   },
   "file_extension": ".py",
   "mimetype": "text/x-python",
   "name": "python",
   "nbconvert_exporter": "python",
   "pygments_lexer": "ipython3",
   "version": "3.5.2"
  }
 },
 "nbformat": 4,
 "nbformat_minor": 2
}
