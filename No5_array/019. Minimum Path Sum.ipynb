{
 "cells": [
  {
   "cell_type": "markdown",
   "metadata": {},
   "source": [
    "Given a m x n grid filled with non-negative numbers, find a path from top left to bottom right which minimizes the sum of all numbers along its path.\n",
    "\n",
    "    Note: You can only move either down or right at any point in time.\n",
    "\n",
    "    Example 1:\n",
    "    [[1,3,1],\n",
    "     [1,5,1],\n",
    "     [4,2,1]]\n",
    "    Given the above grid map, return 7. Because the path 1→3→1→1→1 minimizes the sum.\n"
   ]
  },
  {
   "cell_type": "code",
   "execution_count": 9,
   "metadata": {},
   "outputs": [],
   "source": [
    "class Solution:\n",
    "    def minPathSum(self, grid):\n",
    "        \"\"\"\n",
    "        :type grid: List[List[int]]\n",
    "        :rtype: int\n",
    "        \"\"\"\n",
    "        dp = self.init_dp(grid)\n",
    "        for i in range(len(grid)):\n",
    "            for j in range(len(grid[0])):\n",
    "                dp_i, dp_j = i+1, j+1\n",
    "                if i == 0 and j == 0:\n",
    "                    dp[dp_i][dp_j] = grid[i][j]\n",
    "                else:\n",
    "                    dp[dp_i][dp_j] = min(dp[dp_i-1][dp_j], dp[dp_i][dp_j-1]) + grid[i][j]\n",
    "        return dp[-1][-1]\n",
    "        \n",
    "    def init_dp(self, grid):\n",
    "        dp = [[float('Inf') for _ in range(len(grid[0])+1)] for _ in range(len(grid)+1)]\n",
    "        return dp\n",
    "            \n",
    "                "
   ]
  },
  {
   "cell_type": "code",
   "execution_count": 11,
   "metadata": {},
   "outputs": [
    {
     "name": "stderr",
     "output_type": "stream",
     "text": [
      "..\n",
      "----------------------------------------------------------------------\n",
      "Ran 2 tests in 0.001s\n",
      "\n",
      "OK\n"
     ]
    },
    {
     "data": {
      "text/plain": [
       "<unittest.main.TestProgram at 0x7f6bde3a1cc0>"
      ]
     },
     "execution_count": 11,
     "metadata": {},
     "output_type": "execute_result"
    }
   ],
   "source": [
    "import unittest\n",
    "class Test(unittest.TestCase):\n",
    "    def test_init_dp(self):\n",
    "        sol = Solution()\n",
    "        grid = [[1,3,1],[1,5,1],[4,2,1]]\n",
    "        result = sol.init_dp(grid)\n",
    "        expected = [[float('Inf'),float('Inf'),float('Inf'),float('Inf')],[float('Inf'),float('Inf'),float('Inf'),float('Inf')],[float('Inf'),float('Inf'),float('Inf'),float('Inf')],[float('Inf'),float('Inf'),float('Inf'),float('Inf')]]\n",
    "        self.assertListEqual(result, expected)\n",
    "\n",
    "    def test_minPathSum(self):\n",
    "        sol = Solution()\n",
    "        grid = [[1,3,1],[1,5,1],[4,2,1]]\n",
    "        result = sol.minPathSum(grid)\n",
    "        expected = 7\n",
    "        self.assertEqual(result, expected)\n",
    "unittest.main(argv=['first-arg-is-ignored'], exit=False)\n"
   ]
  },
  {
   "cell_type": "code",
   "execution_count": null,
   "metadata": {},
   "outputs": [],
   "source": []
  }
 ],
 "metadata": {
  "kernelspec": {
   "display_name": "Python 3",
   "language": "python",
   "name": "python3"
  },
  "language_info": {
   "codemirror_mode": {
    "name": "ipython",
    "version": 3
   },
   "file_extension": ".py",
   "mimetype": "text/x-python",
   "name": "python",
   "nbconvert_exporter": "python",
   "pygments_lexer": "ipython3",
   "version": "3.5.2"
  }
 },
 "nbformat": 4,
 "nbformat_minor": 2
}
