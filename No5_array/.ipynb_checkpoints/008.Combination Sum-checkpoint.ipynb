{
 "cells": [
  {
   "cell_type": "markdown",
   "metadata": {},
   "source": [
    "Given a set of candidate numbers (C) (without duplicates) and a target number (T), find all unique combinations in C where the candidate numbers sums to T.\n",
    "\n",
    "The same repeated number may be chosen from C unlimited number of times.\n",
    "\n",
    "    Note:\n",
    "    All numbers (including target) will be positive integers.\n",
    "    The solution set must not contain duplicate combinations.\n",
    "    For example, given candidate set [2, 3, 6, 7] and target 7, \n",
    "    A solution set is: \n",
    "    [\n",
    "      [7],\n",
    "      [2, 2, 3]\n",
    "    ]\n"
   ]
  },
  {
   "cell_type": "code",
   "execution_count": 16,
   "metadata": {},
   "outputs": [
    {
     "data": {
      "text/plain": [
       "[[2, 3]]"
      ]
     },
     "execution_count": 16,
     "metadata": {},
     "output_type": "execute_result"
    }
   ],
   "source": [
    "class Solution:\n",
    "    \n",
    "    def combinationSum(self, candidates, target):\n",
    "        \"\"\"\n",
    "        :type candidates: List[int]\n",
    "        :type target: int\n",
    "        :rtype: List[List[int]]\n",
    "        \"\"\"\n",
    "        self.result = []\n",
    "        candidates.sort()\n",
    "        start = 0\n",
    "        self.findCombincationSum(candidates, start, target, [])\n",
    "        \n",
    "        return self.result\n",
    "        \n",
    "        \n",
    "    def findCombincationSum(self, candidates, start, target, combi):\n",
    "\n",
    "        for i in range(start, len(candidates)):\n",
    "            if candidates[i] > target:\n",
    "                break\n",
    "            elif candidates[i] < target:\n",
    "                self.findCombincationSum(candidates, i, target-candidates[i], combi + [candidates[i]])\n",
    "            else:\n",
    "                self.result.append(combi + [candidates[i]])\n",
    "                \n",
    "s = Solution()\n",
    "s.combinationSum([2, 3, 6, 7],5)\n",
    "        "
   ]
  },
  {
   "cell_type": "code",
   "execution_count": null,
   "metadata": {},
   "outputs": [],
   "source": []
  }
 ],
 "metadata": {
  "kernelspec": {
   "display_name": "Python 3",
   "language": "python",
   "name": "python3"
  },
  "language_info": {
   "codemirror_mode": {
    "name": "ipython",
    "version": 3
   },
   "file_extension": ".py",
   "mimetype": "text/x-python",
   "name": "python",
   "nbconvert_exporter": "python",
   "pygments_lexer": "ipython3",
   "version": "3.5.2"
  }
 },
 "nbformat": 4,
 "nbformat_minor": 2
}
