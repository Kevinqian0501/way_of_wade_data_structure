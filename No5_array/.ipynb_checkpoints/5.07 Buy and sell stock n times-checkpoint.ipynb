{
 "cells": [
  {
   "cell_type": "code",
   "execution_count": 1,
   "metadata": {},
   "outputs": [],
   "source": [
    "def buy_and_sell_infn_times(stock):\n",
    "    \"\"\"\n",
    "        problem description: \n",
    "            return the best profit at each trading day.\n",
    "        Hint:\n",
    "            state wise, store all possible state at each day, return based on those states\n",
    "            at the end of each day, two different status, bought or sold\n",
    "        Space:\n",
    "            Since each day, only depend of previous day, space is O(1)\n",
    "    \"\"\"\n",
    "    \n",
    "    bought, sold = 0, 1\n",
    "\n",
    "    portfolio_lastday = [-stock[0], 0] # bought, sold status, end at day 0\n",
    "    portfolio_today = portfolio_lastday # start of day 1\n",
    "\n",
    "    for i, price in enumerate(stock[1:]):\n",
    "        # update to end of today\n",
    "        portfolio_today[bought] = max(portfolio_lastday[bought], portfolio_lastday[sold] - price)\n",
    "        portfolio_today[sold] = max(portfolio_lastday[sold], portfolio_today[bought] + price)\n",
    "\n",
    "        # update to next day\n",
    "        portfolio_lastday = portfolio_today\n",
    "        \n",
    "    return portfolio_today[sold]"
   ]
  },
  {
   "cell_type": "code",
   "execution_count": 53,
   "metadata": {},
   "outputs": [],
   "source": [
    "stock = [1,3,1,3,1,3]"
   ]
  },
  {
   "cell_type": "code",
   "execution_count": 54,
   "metadata": {},
   "outputs": [
    {
     "data": {
      "text/plain": [
       "6"
      ]
     },
     "execution_count": 54,
     "metadata": {},
     "output_type": "execute_result"
    }
   ],
   "source": [
    "buy_and_sell_infn_times(stock)"
   ]
  },
  {
   "cell_type": "code",
   "execution_count": 69,
   "metadata": {},
   "outputs": [],
   "source": [
    "def buy_and_sell_k_times(stock, k):\n",
    "    \"\"\"\n",
    "        problem description: \n",
    "            return the best profit at each trading day.\n",
    "        Hint:\n",
    "            state wise, store all possible state at each day, return based on those states\n",
    "            at the end of each day, two different status, bought or sold\n",
    "        Space:\n",
    "            Since each day, only depend of previous day, space is O(1)\n",
    "    \"\"\"\n",
    "    \n",
    "    bought, sold = 0, 1\n",
    "\n",
    "    portfolio = []\n",
    "    for i in range(k):\n",
    "        portfolio.append([-stock[0], 0]) # bought, sold status, end at day 0\n",
    "\n",
    "\n",
    "    for i, price in enumerate(stock[1:]):\n",
    "        for j in range(k):\n",
    "            if j == 0:\n",
    "                portfolio[0][bought] = max(portfolio[0][bought], -price)\n",
    "                portfolio[0][sold] = max(portfolio[0][sold], portfolio[0][bought] + price)\n",
    "            else:\n",
    "                portfolio[j][bought] = max(portfolio[j][bought], portfolio[j-1][sold] - price)\n",
    "                portfolio[j][sold] = max(portfolio[j][sold], portfolio[j][bought] + price)\n",
    "\n",
    "\n",
    "    return portfolio[-1][sold]"
   ]
  },
  {
   "cell_type": "code",
   "execution_count": 71,
   "metadata": {},
   "outputs": [
    {
     "name": "stdout",
     "output_type": "stream",
     "text": [
      "3 [[-1, 2], [-1, 2]]\n",
      "1 [[-1, 2], [1, 2]]\n",
      "3 [[-1, 2], [1, 4]]\n",
      "1 [[-1, 2], [1, 4]]\n",
      "3 [[-1, 2], [1, 4]]\n"
     ]
    },
    {
     "data": {
      "text/plain": [
       "4"
      ]
     },
     "execution_count": 71,
     "metadata": {},
     "output_type": "execute_result"
    }
   ],
   "source": [
    "\n",
    "k = 2\n",
    "buy_and_sell_k_times(stock, k)"
   ]
  },
  {
   "cell_type": "code",
   "execution_count": null,
   "metadata": {},
   "outputs": [],
   "source": []
  },
  {
   "cell_type": "code",
   "execution_count": null,
   "metadata": {},
   "outputs": [],
   "source": []
  }
 ],
 "metadata": {
  "kernelspec": {
   "display_name": "Python 3",
   "language": "python",
   "name": "python3"
  },
  "language_info": {
   "codemirror_mode": {
    "name": "ipython",
    "version": 3
   },
   "file_extension": ".py",
   "mimetype": "text/x-python",
   "name": "python",
   "nbconvert_exporter": "python",
   "pygments_lexer": "ipython3",
   "version": "3.5.2"
  }
 },
 "nbformat": 4,
 "nbformat_minor": 2
}
