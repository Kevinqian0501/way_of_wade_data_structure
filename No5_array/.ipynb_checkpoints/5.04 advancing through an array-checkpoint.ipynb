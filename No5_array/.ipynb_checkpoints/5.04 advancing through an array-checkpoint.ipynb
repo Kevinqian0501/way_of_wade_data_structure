{
 "cells": [
  {
   "cell_type": "code",
   "execution_count": 26,
   "metadata": {},
   "outputs": [],
   "source": [
    "def canReachEnd(input_):\n",
    "    \"\"\"\n",
    "        Loop through and update max len step by step\n",
    "        \n",
    "        the onject and the contrains\n",
    "    \"\"\"\n",
    "    \n",
    "    max_ = 0;\n",
    "    for i, v in enumerate(input_):\n",
    "        if i <= max_:\n",
    "            max_ = max(i+v, max_);\n",
    "            if max_ >= len(input_)-1:\n",
    "                return True;\n",
    "    return False\n",
    "\n",
    "\n",
    "\n",
    "def test(input_, output):\n",
    "    result = canReachEnd(input_)\n",
    "    \n",
    "    if result == output:\n",
    "        print(\"Collect!\")\n",
    "    else:\n",
    "        print (result, output, result == output)\n",
    "        print(\"Wrong!\")"
   ]
  },
  {
   "cell_type": "code",
   "execution_count": 28,
   "metadata": {},
   "outputs": [
    {
     "name": "stdout",
     "output_type": "stream",
     "text": [
      "Collect!\n",
      "Collect!\n"
     ]
    }
   ],
   "source": [
    "input_set = {}\n",
    "\n",
    "input_set['1'] = [3,3,1,0,2,0,1]\n",
    "input_set['2'] = [3,2,0,0,2,0,1]\n",
    "\n",
    "output = [True, False]\n",
    "\n",
    "\n",
    "\n",
    "\n",
    "\n",
    "test(input_set['1'], output[0])\n",
    "test(input_set['2'], output[1])"
   ]
  },
  {
   "cell_type": "code",
   "execution_count": null,
   "metadata": {},
   "outputs": [],
   "source": []
  }
 ],
 "metadata": {
  "kernelspec": {
   "display_name": "Python 3",
   "language": "python",
   "name": "python3"
  },
  "language_info": {
   "codemirror_mode": {
    "name": "ipython",
    "version": 3
   },
   "file_extension": ".py",
   "mimetype": "text/x-python",
   "name": "python",
   "nbconvert_exporter": "python",
   "pygments_lexer": "ipython3",
   "version": "3.5.2"
  }
 },
 "nbformat": 4,
 "nbformat_minor": 2
}
