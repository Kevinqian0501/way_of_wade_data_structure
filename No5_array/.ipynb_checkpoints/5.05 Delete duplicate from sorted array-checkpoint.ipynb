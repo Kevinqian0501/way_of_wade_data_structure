{
 "cells": [
  {
   "cell_type": "code",
   "execution_count": 10,
   "metadata": {},
   "outputs": [],
   "source": [
    "def delecte_duplicate(input_):\n",
    "    \"\"\"\n",
    "        delete duplicate element from sorted array\n",
    "        \n",
    "        Hint: use two pointer, one marked the index to write on, one walk through the array\n",
    "    \"\"\"\n",
    "    \n",
    "    index_marker, index_walker = 0,0\n",
    "    \n",
    "    # constrain: value at index_walker have to be defferent from value at index_maker -1\n",
    "    if(len(input_) == 0):\n",
    "        return input_\n",
    "    else:\n",
    "        index_marker, index_walker = 1, 1\n",
    "        for index_walker in range(1, len(input_)):\n",
    "            if not input_[index_walker] == input_[index_marker-1]:\n",
    "                input_[index_marker] = input_[index_walker]\n",
    "                index_marker += 1\n",
    "                \n",
    "    return input_[:index_marker]"
   ]
  },
  {
   "cell_type": "code",
   "execution_count": 13,
   "metadata": {},
   "outputs": [],
   "source": [
    "def test(input_, output):\n",
    "    \n",
    "    result = delecte_duplicate(input_)\n",
    "    \n",
    "    for i, v in enumerate(result):\n",
    "        if not v == result[i]:\n",
    "            print(result)\n",
    "            print(\"Wrong\")\n",
    "            return\n",
    "    print(\"Correct\")\n",
    "    return"
   ]
  },
  {
   "cell_type": "code",
   "execution_count": 14,
   "metadata": {},
   "outputs": [
    {
     "name": "stdout",
     "output_type": "stream",
     "text": [
      "Collect\n",
      "Collect\n",
      "Collect\n"
     ]
    }
   ],
   "source": [
    "input_set = []\n",
    "output_set = []\n",
    "\n",
    "input_set.append([1,2,2,3,3,4,5])\n",
    "input_set.append([1,2,2,3,4,5,5])\n",
    "input_set.append([1,1,1,2,2,3,4,5])\n",
    "\n",
    "output_set.append([1,2,3,4,5])\n",
    "output_set.append([1,2,3,4,5])\n",
    "output_set.append([1,2,3,4,5])\n",
    "\n",
    "test(input_set[0], output_set[0])\n",
    "test(input_set[1], output_set[1])\n",
    "test(input_set[2], output_set[2])"
   ]
  },
  {
   "cell_type": "code",
   "execution_count": null,
   "metadata": {},
   "outputs": [],
   "source": []
  }
 ],
 "metadata": {
  "kernelspec": {
   "display_name": "Python 3",
   "language": "python",
   "name": "python3"
  },
  "language_info": {
   "codemirror_mode": {
    "name": "ipython",
    "version": 3
   },
   "file_extension": ".py",
   "mimetype": "text/x-python",
   "name": "python",
   "nbconvert_exporter": "python",
   "pygments_lexer": "ipython3",
   "version": "3.5.2"
  }
 },
 "nbformat": 4,
 "nbformat_minor": 2
}
