{
 "cells": [
  {
   "cell_type": "markdown",
   "metadata": {},
   "source": [
    "You are given an n x n 2D matrix representing an image.\n",
    "\n",
    "Rotate the image by 90 degrees (clockwise).\n",
    "\n",
    "Note:\n",
    "You have to rotate the image in-place, which means you have to modify the input 2D matrix directly. DO NOT allocate another 2D matrix and do the rotation.\n",
    "\n",
    "    Example 1:\n",
    "\n",
    "    Given input matrix = \n",
    "    [\n",
    "      [1,2,3],\n",
    "      [4,5,6],\n",
    "      [7,8,9]\n",
    "    ],\n",
    "\n",
    "    rotate the input matrix in-place such that it becomes:\n",
    "    [\n",
    "      [7,4,1],\n",
    "      [8,5,2],\n",
    "      [9,6,3]\n",
    "    ]\n",
    "    Example 2:\n",
    "\n",
    "    Given input matrix =\n",
    "    [\n",
    "      [ 5, 1, 9,11],\n",
    "      [ 2, 4, 8,10],\n",
    "      [13, 3, 6, 7],\n",
    "      [15,14,12,16]\n",
    "    ], \n",
    "\n",
    "    rotate the input matrix in-place such that it becomes:\n",
    "    [\n",
    "      [15,13, 2, 5],\n",
    "      [14, 3, 4, 1],\n",
    "      [12, 6, 8, 9],\n",
    "      [16, 7,10,11]\n",
    "    ]"
   ]
  },
  {
   "cell_type": "code",
   "execution_count": 42,
   "metadata": {},
   "outputs": [],
   "source": [
    "class Solution:\n",
    "    def rotate(self, matrix):\n",
    "        \"\"\"\n",
    "        :type matrix: List[List[int]]\n",
    "        :rtype: void Do not return anything, modify matrix in-place instead.\n",
    "        \"\"\"\n",
    "        n_row, n_col = len(matrix), len(matrix[0])\n",
    "        \n",
    "        for i in range(len(matrix)//2):\n",
    "            temp = matrix[i]\n",
    "            matrix[i] = matrix[n_row-1-i]\n",
    "            matrix[n_row-1-i] = temp\n",
    "        \n",
    "        for r_index in range(n_row):\n",
    "            for c_index in range(r_index+1,n_col):\n",
    "                temp = matrix[r_index][c_index]\n",
    "                matrix[r_index][c_index] = matrix[c_index][r_index]\n",
    "                matrix[c_index][r_index] = temp\n",
    "\n",
    "        return matrix\n",
    "\n"
   ]
  },
  {
   "cell_type": "code",
   "execution_count": 43,
   "metadata": {},
   "outputs": [],
   "source": [
    "matrix = [\n",
    "          [15,13, 2, 5],\n",
    "          [14, 3, 4, 1],\n",
    "          [12, 6, 8, 9],\n",
    "          [16, 7,10,11]\n",
    "        ]\n"
   ]
  },
  {
   "cell_type": "code",
   "execution_count": 44,
   "metadata": {},
   "outputs": [
    {
     "data": {
      "text/plain": [
       "[[16, 12, 14, 15], [7, 6, 3, 13], [10, 8, 4, 2], [11, 9, 1, 5]]"
      ]
     },
     "execution_count": 44,
     "metadata": {},
     "output_type": "execute_result"
    }
   ],
   "source": [
    "s = Solution()\n",
    "s.rotate(matrix)"
   ]
  },
  {
   "cell_type": "code",
   "execution_count": null,
   "metadata": {},
   "outputs": [],
   "source": []
  },
  {
   "cell_type": "code",
   "execution_count": null,
   "metadata": {},
   "outputs": [],
   "source": []
  },
  {
   "cell_type": "code",
   "execution_count": null,
   "metadata": {},
   "outputs": [],
   "source": []
  },
  {
   "cell_type": "code",
   "execution_count": null,
   "metadata": {},
   "outputs": [],
   "source": []
  },
  {
   "cell_type": "code",
   "execution_count": null,
   "metadata": {},
   "outputs": [],
   "source": []
  },
  {
   "cell_type": "code",
   "execution_count": null,
   "metadata": {},
   "outputs": [],
   "source": []
  },
  {
   "cell_type": "code",
   "execution_count": null,
   "metadata": {},
   "outputs": [],
   "source": []
  },
  {
   "cell_type": "code",
   "execution_count": null,
   "metadata": {},
   "outputs": [],
   "source": []
  },
  {
   "cell_type": "code",
   "execution_count": null,
   "metadata": {},
   "outputs": [],
   "source": []
  },
  {
   "cell_type": "code",
   "execution_count": null,
   "metadata": {},
   "outputs": [],
   "source": []
  },
  {
   "cell_type": "code",
   "execution_count": null,
   "metadata": {},
   "outputs": [],
   "source": []
  },
  {
   "cell_type": "code",
   "execution_count": null,
   "metadata": {},
   "outputs": [],
   "source": []
  },
  {
   "cell_type": "code",
   "execution_count": null,
   "metadata": {},
   "outputs": [],
   "source": []
  },
  {
   "cell_type": "code",
   "execution_count": null,
   "metadata": {},
   "outputs": [],
   "source": []
  }
 ],
 "metadata": {
  "kernelspec": {
   "display_name": "Python 3",
   "language": "python",
   "name": "python3"
  },
  "language_info": {
   "codemirror_mode": {
    "name": "ipython",
    "version": 3
   },
   "file_extension": ".py",
   "mimetype": "text/x-python",
   "name": "python",
   "nbconvert_exporter": "python",
   "pygments_lexer": "ipython3",
   "version": "3.5.2"
  }
 },
 "nbformat": 4,
 "nbformat_minor": 2
}
