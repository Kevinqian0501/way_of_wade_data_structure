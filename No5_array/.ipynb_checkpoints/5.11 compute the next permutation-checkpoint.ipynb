{
 "cells": [
  {
   "cell_type": "code",
   "execution_count": 1,
   "metadata": {},
   "outputs": [],
   "source": [
    "from sys import getsizeof"
   ]
  },
  {
   "cell_type": "code",
   "execution_count": 2,
   "metadata": {},
   "outputs": [
    {
     "data": {
      "text/plain": [
       "8064"
      ]
     },
     "execution_count": 2,
     "metadata": {},
     "output_type": "execute_result"
    }
   ],
   "source": [
    "getsizeof([1000]*1000)"
   ]
  },
  {
   "cell_type": "code",
   "execution_count": 57,
   "metadata": {},
   "outputs": [],
   "source": [
    "def compute_next_permute(A):\n",
    "    \"\"\"\n",
    "        compute next permute\n",
    "        \n",
    "    \"\"\"\n",
    "    \n",
    "    for i in range(len(A)-1, 0, -1):\n",
    "        if A[i]>A[i-1]:\n",
    "            # get index of smallest element that is larger than A[i], and swap A[i] with that element\n",
    "            index = i\n",
    "            for j in range(i,len(A)):\n",
    "                if A[j] <= A[i-1]:\n",
    "                    index = j-1\n",
    "                    break\n",
    "                    \n",
    "            # swap A[i-1] and A[index]\n",
    "            temp = A[i-1]\n",
    "            A[i-1] = A[index]\n",
    "            A[index] = temp\n",
    "            \n",
    "            # reverse A[i:]\n",
    "            for j in range((len(A)-i)//2):\n",
    "                temp = A[i+j]\n",
    "                A[i+j] = A[len(A)-1-j]\n",
    "                A[len(A)-1-j] = temp\n",
    "                \n",
    "\n",
    "            \n",
    "            return A\n",
    "    \n",
    "    return []\n",
    "            "
   ]
  },
  {
   "cell_type": "code",
   "execution_count": 58,
   "metadata": {},
   "outputs": [
    {
     "data": {
      "text/plain": [
       "[1, 2, 4, 1, 2, 3]"
      ]
     },
     "execution_count": 58,
     "metadata": {},
     "output_type": "execute_result"
    }
   ],
   "source": [
    "A = [1,2,3,4,2,1]\n",
    "compute_next_permute(A)"
   ]
  },
  {
   "cell_type": "code",
   "execution_count": 59,
   "metadata": {},
   "outputs": [
    {
     "data": {
      "text/plain": [
       "[]"
      ]
     },
     "execution_count": 59,
     "metadata": {},
     "output_type": "execute_result"
    }
   ],
   "source": [
    "A = [4,3,2,1]\n",
    "compute_next_permute(A)"
   ]
  },
  {
   "cell_type": "code",
   "execution_count": 60,
   "metadata": {},
   "outputs": [
    {
     "data": {
      "text/plain": [
       "[4, 2, 1, 1]"
      ]
     },
     "execution_count": 60,
     "metadata": {},
     "output_type": "execute_result"
    }
   ],
   "source": [
    "A = [4,1,2,1]\n",
    "compute_next_permute(A)"
   ]
  },
  {
   "cell_type": "code",
   "execution_count": null,
   "metadata": {},
   "outputs": [],
   "source": []
  }
 ],
 "metadata": {
  "kernelspec": {
   "display_name": "Python 3",
   "language": "python",
   "name": "python3"
  },
  "language_info": {
   "codemirror_mode": {
    "name": "ipython",
    "version": 3
   },
   "file_extension": ".py",
   "mimetype": "text/x-python",
   "name": "python",
   "nbconvert_exporter": "python",
   "pygments_lexer": "ipython3",
   "version": "3.5.2"
  }
 },
 "nbformat": 4,
 "nbformat_minor": 2
}
