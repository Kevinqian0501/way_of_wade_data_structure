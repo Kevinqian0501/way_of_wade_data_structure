{
 "cells": [
  {
   "cell_type": "code",
   "execution_count": 1,
   "metadata": {},
   "outputs": [],
   "source": [
    "input_ = [1,2,3,1,4,3,2,1]\n",
    "output = [1,3,1,4,2,3,1,2]\n",
    "1,2,3,4,5,7,8\n",
    "1,8,3,4,5,7,3\n",
    "\n",
    "a< b > c < d > e < f > g"
   ]
  },
  {
   "cell_type": "code",
   "execution_count": 5,
   "metadata": {},
   "outputs": [],
   "source": [
    "def compute_alternation(input_):\n",
    "    for i in range(1, len(input_)):\n",
    "        if i % 2 == 1 and input_[i] < input_[i-1] or \\\n",
    "            i % 2 == 0 and input_[i] > input_[i-1]:\n",
    "            temp = input_[i]\n",
    "            input_[i] = input_[i-1]\n",
    "            input_[i-1] = temp\n",
    "    return input_\n",
    "\n",
    "def test(input_, output):\n",
    "    result = compute_alternation(input_)\n",
    "    \n",
    "    for i, v in enumerate(result):\n",
    "        if not output[i] == v:\n",
    "            print(\"Wrong\")\n",
    "            return\n",
    "    print(\"Correct\")\n",
    "    return"
   ]
  },
  {
   "cell_type": "code",
   "execution_count": 6,
   "metadata": {},
   "outputs": [
    {
     "name": "stdout",
     "output_type": "stream",
     "text": [
      "Correct\n"
     ]
    }
   ],
   "source": [
    "test(input_, output)"
   ]
  },
  {
   "cell_type": "code",
   "execution_count": null,
   "metadata": {},
   "outputs": [],
   "source": []
  }
 ],
 "metadata": {
  "kernelspec": {
   "display_name": "Python 3",
   "language": "python",
   "name": "python3"
  },
  "language_info": {
   "codemirror_mode": {
    "name": "ipython",
    "version": 3
   },
   "file_extension": ".py",
   "mimetype": "text/x-python",
   "name": "python",
   "nbconvert_exporter": "python",
   "pygments_lexer": "ipython3",
   "version": "3.5.2"
  }
 },
 "nbformat": 4,
 "nbformat_minor": 2
}
