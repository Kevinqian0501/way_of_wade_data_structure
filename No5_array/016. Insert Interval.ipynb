{
 "cells": [
  {
   "cell_type": "markdown",
   "metadata": {},
   "source": [
    "Given a set of non-overlapping intervals, insert a new interval into the intervals (merge if necessary).\n",
    "\n",
    "You may assume that the intervals were initially sorted according to their start times.\n",
    "\n",
    "    Example 1:\n",
    "    Given intervals [1,3],[6,9], insert and merge [2,5] in as [1,5],[6,9].\n",
    "\n",
    "    Example 2:\n",
    "    Given [1,2],[3,5],[6,7],[8,10],[12,16], insert and merge [4,9] in as [1,2],[3,10],[12,16].\n",
    "\n",
    "    This is because the new interval [4,9] overlaps with [3,5],[6,7],[8,10]."
   ]
  },
  {
   "cell_type": "code",
   "execution_count": 81,
   "metadata": {},
   "outputs": [],
   "source": [
    "# Definition for an interval.\n",
    "class Solution:\n",
    "    def insert(self, intervals, newInterval):\n",
    "        \"\"\"\n",
    "        :type intervals: List[Interval]\n",
    "        :type newInterval: Interval\n",
    "        :rtype: List[Interval]\n",
    "        \"\"\"\n",
    "        merged_intervals, index = self.merge_interval(intervals, newInterval)\n",
    "        if len(merged_intervals) > len(intervals):\n",
    "            return merged_intervals\n",
    "            \n",
    "        if index == len(intervals):\n",
    "            merged_intervals.append(newInterval)\n",
    "        else:\n",
    "            merged_intervals = self.update_interval(merged_intervals, index)\n",
    "            \n",
    "        return merged_intervals\n",
    "        \n",
    "    def merge_interval(self, intervals, insert):\n",
    "        index = 0\n",
    "        while index < len(intervals):\n",
    "            if insert[0] < intervals[index][0]:\n",
    "                if insert[1] < intervals[index][0]:\n",
    "                    intervals.insert(index, insert)\n",
    "                    break\n",
    "                \n",
    "                else:\n",
    "                    intervals[index][0] = insert[0]\n",
    "                    intervals[index][1] = max(intervals[index][1], insert[1])\n",
    "                    break\n",
    "                \n",
    "            elif insert[0] <= intervals[index][1]:\n",
    "                intervals[index][1] = max(intervals[index][1], insert[1])\n",
    "                break\n",
    "            \n",
    "            else:\n",
    "                index += 1\n",
    "                \n",
    "        return intervals, index\n",
    "    \n",
    "    def update_interval(self, intervals, index):\n",
    "        walker = index + 1\n",
    "        while walker < len(intervals):\n",
    "            if intervals[index][1] >= intervals[walker][0]:\n",
    "                intervals[index][1] = max(intervals[index][1], intervals[walker][1])\n",
    "            else:\n",
    "                index += 1\n",
    "                intervals[index] = intervals[walker]\n",
    "            walker += 1\n",
    "        return intervals[:index+1]\n",
    "            \n",
    "    "
   ]
  },
  {
   "cell_type": "code",
   "execution_count": 82,
   "metadata": {},
   "outputs": [],
   "source": [
    "import unittest"
   ]
  },
  {
   "cell_type": "code",
   "execution_count": 83,
   "metadata": {},
   "outputs": [
    {
     "name": "stderr",
     "output_type": "stream",
     "text": [
      "...\n",
      "----------------------------------------------------------------------\n",
      "Ran 3 tests in 0.002s\n",
      "\n",
      "OK\n"
     ]
    },
    {
     "data": {
      "text/plain": [
       "<unittest.main.TestProgram at 0x7f9710093c88>"
      ]
     },
     "execution_count": 83,
     "metadata": {},
     "output_type": "execute_result"
    }
   ],
   "source": [
    "class Test(unittest.TestCase):\n",
    "    def test_merge_interval(self):\n",
    "        sol = Solution()\n",
    "        intervals = [[1,3],[6,9]]\n",
    "        insert = [2,8]\n",
    "        expected = [[1,8],[6,9]]\n",
    "        result, index = sol.merge_interval(intervals, insert)\n",
    "        self.assertListEqual(result, expected)\n",
    "        \n",
    "    def test_update_interval(self):\n",
    "        sol = Solution()\n",
    "        intervals = [[1,8],[6,9]]\n",
    "        index = 0\n",
    "        expected = [[1,9]]\n",
    "        result= sol.update_interval(intervals, index)\n",
    "        self.assertListEqual(result, expected)\n",
    "        \n",
    "    def test_insert_interval(self):\n",
    "        sol = Solution()\n",
    "        intervals = [[1,3],[6,9]]\n",
    "        insert = [2,5]\n",
    "        expected = [[1,5],[6,9]]\n",
    "        result = sol.insert(intervals, insert)\n",
    "        self.assertListEqual(result, expected)\n",
    "        \n",
    "unittest.main(argv=['first-arg-is-ignored'], exit=False)"
   ]
  },
  {
   "cell_type": "code",
   "execution_count": 78,
   "metadata": {},
   "outputs": [],
   "source": [
    "intervals = [Interval(1,3),Interval(6,9)]"
   ]
  },
  {
   "cell_type": "code",
   "execution_count": 79,
   "metadata": {},
   "outputs": [
    {
     "ename": "AttributeError",
     "evalue": "'list' object has no attribute 'start'",
     "output_type": "error",
     "traceback": [
      "\u001b[0;31m---------------------------------------------------------------------------\u001b[0m",
      "\u001b[0;31mAttributeError\u001b[0m                            Traceback (most recent call last)",
      "\u001b[0;32m<ipython-input-71-9f4d826f55e9>\u001b[0m in \u001b[0;36m<module>\u001b[0;34m()\u001b[0m\n\u001b[0;32m----> 1\u001b[0;31m \u001b[0mintervals\u001b[0m\u001b[0;34m.\u001b[0m\u001b[0mstart\u001b[0m\u001b[0;34m(\u001b[0m\u001b[0;34m)\u001b[0m\u001b[0;34m\u001b[0m\u001b[0m\n\u001b[0m",
      "\u001b[0;31mAttributeError\u001b[0m: 'list' object has no attribute 'start'"
     ]
    }
   ],
   "source": [
    "%tb "
   ]
  },
  {
   "cell_type": "code",
   "execution_count": 72,
   "metadata": {},
   "outputs": [
    {
     "data": {
      "text/plain": [
       "1"
      ]
     },
     "execution_count": 72,
     "metadata": {},
     "output_type": "execute_result"
    }
   ],
   "source": [
    "intervals[0].start"
   ]
  },
  {
   "cell_type": "code",
   "execution_count": null,
   "metadata": {},
   "outputs": [],
   "source": []
  }
 ],
 "metadata": {
  "kernelspec": {
   "display_name": "Python 3",
   "language": "python",
   "name": "python3"
  },
  "language_info": {
   "codemirror_mode": {
    "name": "ipython",
    "version": 3
   },
   "file_extension": ".py",
   "mimetype": "text/x-python",
   "name": "python",
   "nbconvert_exporter": "python",
   "pygments_lexer": "ipython3",
   "version": "3.5.2"
  }
 },
 "nbformat": 4,
 "nbformat_minor": 2
}
