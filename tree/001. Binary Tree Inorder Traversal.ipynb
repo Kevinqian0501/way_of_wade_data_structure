{
 "cells": [
  {
   "cell_type": "markdown",
   "metadata": {},
   "source": [
    "Given a binary tree, return the inorder traversal of its nodes' values.\n",
    "\n",
    "    For example:\n",
    "    Given binary tree [1,null,2,3],\n",
    "       1\n",
    "        \\\n",
    "         2\n",
    "        /\n",
    "       3\n",
    "    return [1,3,2].\n",
    "\n",
    "    Note: Recursive solution is trivial, could you do it iteratively?\n",
    "\n"
   ]
  },
  {
   "cell_type": "code",
   "execution_count": 16,
   "metadata": {},
   "outputs": [],
   "source": [
    "# Definition for a binary tree node.\n",
    "class TreeNode:\n",
    "    def __init__(self, x):\n",
    "        self.val = x\n",
    "        self.left = None\n",
    "        self.right = None\n",
    "\n",
    "class Solution:\n",
    "    def inorderTraversal(self, root):\n",
    "        \"\"\"\n",
    "        :type root: TreeNode\n",
    "        :rtype: List[int]\n",
    "        \"\"\"\n",
    "        self.node_traver\n",
    "    def node_traver(self, node):\n",
    "        if node == None:\n",
    "            return []\n",
    "        left_result = self.node_traver(node.left)\n",
    "        right_result = self.node_traver(node.right)\n",
    "        \n",
    "        return left_result + [node.val] + right_result"
   ]
  },
  {
   "cell_type": "code",
   "execution_count": 19,
   "metadata": {},
   "outputs": [],
   "source": [
    "import unittest\n",
    "class Test(unittest.TestCase):\n",
    "    def test_node_traver_0(self):\n",
    "        sol = Solution()\n",
    "        root = TreeNode(0)\n",
    "        expected = [0]\n",
    "        result = sol.node_traver(root)\n",
    "        self.assertListEqual(expected, result)\n",
    "    def test_node_traver_1(self):\n",
    "        sol = Solution()\n",
    "        root = TreeNode(0)\n",
    "        root.left = TreeNode(1)\n",
    "        root.right = TreeNode(2)\n",
    "        expected = [1,0,2]\n",
    "        result = sol.node_traver(root)\n",
    "        self.assertListEqual(expected, result)\n",
    "    "
   ]
  },
  {
   "cell_type": "code",
   "execution_count": 20,
   "metadata": {},
   "outputs": [
    {
     "name": "stderr",
     "output_type": "stream",
     "text": [
      "..\n",
      "----------------------------------------------------------------------\n",
      "Ran 2 tests in 0.001s\n",
      "\n",
      "OK\n"
     ]
    },
    {
     "data": {
      "text/plain": [
       "<unittest.main.TestProgram at 0x7f26606142e8>"
      ]
     },
     "execution_count": 20,
     "metadata": {},
     "output_type": "execute_result"
    }
   ],
   "source": [
    "unittest.main(argv=['first-arg-is-ignored'], exit=False)\n"
   ]
  },
  {
   "cell_type": "code",
   "execution_count": null,
   "metadata": {},
   "outputs": [],
   "source": [
    "None"
   ]
  }
 ],
 "metadata": {
  "kernelspec": {
   "display_name": "Python 3",
   "language": "python",
   "name": "python3"
  },
  "language_info": {
   "codemirror_mode": {
    "name": "ipython",
    "version": 3
   },
   "file_extension": ".py",
   "mimetype": "text/x-python",
   "name": "python",
   "nbconvert_exporter": "python",
   "pygments_lexer": "ipython3",
   "version": "3.5.2"
  }
 },
 "nbformat": 4,
 "nbformat_minor": 2
}
